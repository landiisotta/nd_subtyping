{
 "cells": [
  {
   "cell_type": "code",
   "execution_count": 142,
   "metadata": {},
   "outputs": [],
   "source": [
    "import os\n",
    "import csv\n",
    "from datetime import datetime, date\n",
    "import time\n",
    "import numpy as np\n",
    "import pandas as pd"
   ]
  },
  {
   "cell_type": "code",
   "execution_count": 143,
   "metadata": {},
   "outputs": [],
   "source": [
    "datetime_folder = 'odf-data-2019-05-14-10-50-14'\n",
    "DATA_FOLDER = os.path.expanduser('~/Documents/nd_subtyping/data/') + datetime_folder"
   ]
  },
  {
   "cell_type": "code",
   "execution_count": 144,
   "metadata": {},
   "outputs": [],
   "source": [
    "with open(DATA_FOLDER + '/person-demographics.csv', 'r') as f:\n",
    "    rd = csv.reader(f)\n",
    "    p_dem = {}\n",
    "    next(rd)\n",
    "    for r in rd:\n",
    "        p_dem.setdefault(r[0], list()).extend([float(r[1])] + r[2::])\n",
    "        \n",
    "with open(DATA_FOLDER + '/person-instrument.csv', 'r') as f:\n",
    "    rd = csv.reader(f)\n",
    "    p_ins = {}\n",
    "    next(rd)\n",
    "    for r in rd:\n",
    "        p_ins.setdefault(r[0], list()).append(r[1::])\n",
    "        \n",
    "with open(DATA_FOLDER + '/person-scores.csv', 'r') as f:\n",
    "    rd = csv.reader(f)\n",
    "    p_sco = {}\n",
    "    next(rd)\n",
    "    for r in rd:\n",
    "        p_sco.setdefault(r[0], list()).append(r[1::])\n",
    "\n",
    "with open(DATA_FOLDER + '/header-tables.csv', 'r') as f:\n",
    "    rd = csv.reader(f)\n",
    "    h_tab = {}\n",
    "    for r in rd:\n",
    "        h_tab[r[0]] = r[1::]"
   ]
  },
  {
   "cell_type": "code",
   "execution_count": 145,
   "metadata": {},
   "outputs": [],
   "source": [
    "df = {}\n",
    "for lab, el in p_sco.items():\n",
    "    for e in el:\n",
    "        if e[0] not in df:\n",
    "            df[e[0]] = pd.DataFrame([[lab] + e[1::]], columns=['id_subj'] + h_tab[e[0]])\n",
    "        else:\n",
    "            df[e[0]] = df[e[0]].append(pd.Series([lab] + e[1::], index=['id_subj'] + h_tab[e[0]]), \n",
    "                                                 ignore_index=True)"
   ]
  },
  {
   "cell_type": "code",
   "execution_count": 151,
   "metadata": {},
   "outputs": [],
   "source": [
    "df_rid = {}\n",
    "for ins, data in df.items():\n",
    "    if bool(re.match('ados', ins)):\n",
    "        df_rid[ins] = data.filter(regex=('id|eval_age|tot|comparison'))\n",
    "    elif bool(re.match('^w', ins)):\n",
    "        df_rid[ins] = data.filter(regex=('id|eval_age|IQ'))\n",
    "    elif bool(re.match('psi', ins)):\n",
    "        df_rid[ins] = data.filter(regex=('id|eval_age|parent|raw'))\n",
    "    elif bool(re.match('leiter', ins)):\n",
    "        df_rid[ins] = data.filter(regex=('id|eval_age|scaled|composite|^BIQ'))\n",
    "    elif bool(re.match('vineland', ins)):\n",
    "        df_rid[ins] = data.filter(regex=('id|eval_age|caregiver|standard'))\n",
    "    elif bool(re.match('srs', ins)):\n",
    "        df_rid[ins] = data.filter(regex=('id|eval_age|parent|tscore'))"
   ]
  },
  {
   "cell_type": "code",
   "execution_count": 152,
   "metadata": {},
   "outputs": [],
   "source": [
    "df_subj = {}\n",
    "for ins, data in df_rid.items():\n",
    "    for idx, subj in enumerate(data['id_subj']):\n",
    "        df_subj.setdefault(subj, list()).append([ins] + list(data.drop('id_subj', 1).iloc[idx]))\n",
    "for sub, it in df_subj.items():\n",
    "    df_subj[sub] = sorted(it, key=lambda x: float(x[1]))"
   ]
  },
  {
   "cell_type": "code",
   "execution_count": null,
   "metadata": {},
   "outputs": [],
   "source": []
  },
  {
   "cell_type": "code",
   "execution_count": 153,
   "metadata": {},
   "outputs": [],
   "source": [
    "age_ins = {}\n",
    "for ins, data in df_rid.items():\n",
    "    for idx, age in enumerate(data['eval_age']):\n",
    "        if float(age) < 1.25:\n",
    "            age_ins.setdefault('F1', list()).append([ins] + list(data.iloc[idx]))\n",
    "        elif float(age) >= 1.25 and float(age) <= 3.00:\n",
    "            age_ins.setdefault('F2', list()).append([ins] + list(data.iloc[idx]))\n",
    "        elif float(age) > 3.00 and float(age) <= 13.00:\n",
    "            age_ins.setdefault('F3', list()).append([ins] + list(data.iloc[idx]))\n",
    "        elif float(age) > 13.00 and float(age) < 17.00:\n",
    "            age_ins.setdefault('F4', list()).append([ins] + list(data.iloc[idx]))\n",
    "        else:\n",
    "            age_ins.setdefault('F5', list()).append([ins] + list(data.iloc[idx]))"
   ]
  },
  {
   "cell_type": "code",
   "execution_count": 154,
   "metadata": {},
   "outputs": [],
   "source": [
    "subj_age = {}\n",
    "for ins, data in df_rid.items():\n",
    "    for idx, age in enumerate(data['eval_age']):\n",
    "        if float(age) < 1.25:\n",
    "            subj_age.setdefault(data['id_subj'].iloc[idx], \n",
    "                                dict()).setdefault('F1', \n",
    "                                list()).append([ins] + list(data.drop('id_subj', 1).iloc[idx]))\n",
    "        elif float(age) >= 1.25 and float(age) <= 3.00:\n",
    "            subj_age.setdefault(data['id_subj'].iloc[idx], \n",
    "                                dict()).setdefault('F2', \n",
    "                                list()).append([ins] + list(data.drop('id_subj', 1).iloc[idx]))\n",
    "        elif float(age) > 3.00 and float(age) <= 13.00:\n",
    "            subj_age.setdefault(data['id_subj'].iloc[idx], \n",
    "                                dict()).setdefault('F3', \n",
    "                                list()).append([ins] + list(data.drop('id_subj', 1).iloc[idx]))\n",
    "        elif float(age) > 13.00 and float(age) < 17.00:\n",
    "            subj_age.setdefault(data['id_subj'].iloc[idx], \n",
    "                                dict()).setdefault('F4', \n",
    "                                list()).append([ins] + list(data.drop('id_subj', 1).iloc[idx]))\n",
    "        else:\n",
    "            subj_age.setdefault(data['id_subj'].iloc[idx], \n",
    "                                dict()).setdefault('F5', \n",
    "                                list()).append([ins] + list(data.drop('id_subj', 1).iloc[idx]))"
   ]
  },
  {
   "cell_type": "code",
   "execution_count": 155,
   "metadata": {},
   "outputs": [
    {
     "name": "stdout",
     "output_type": "stream",
     "text": [
      "Instrument F2 -- {'vineland-ii', 'leiterinternationalperformancescale-revised', 'ados-2modulotoddler', 'ados-2modulo2', 'srs', 'ados-2modulo1', 'psi-sf'}\n",
      "Instrument F3 -- {'vineland-ii', 'wppsi', 'leiterinternationalperformancescale-revised', 'ados-2modulo2', 'ados-2modulo3', 'wppsi-iiifascia40-73', 'ados-2modulo1', 'srs', 'wisc-iv', 'psi-sf', 'wisc-iii', 'wppsi-iiifascia26-311'}\n",
      "Instrument F4 -- {'vineland-ii', 'wais-iv', 'leiterinternationalperformancescale-revised', 'ados-2modulo2', 'ados-2modulo3', 'srs', 'ados-2modulo1', 'wisc-iv', 'psi-sf', 'ados-2modulo4', 'wisc-iii'}\n",
      "Instrument F1 -- {'vineland-ii', 'leiterinternationalperformancescale-revised', 'ados-2modulotoddler', 'srs', 'ados-2modulo1', 'psi-sf', 'ados-2modulo4'}\n",
      "Instrument F5 -- {'vineland-ii', 'wais-iv', 'leiterinternationalperformancescale-revised', 'wais-r', 'ados-2modulo3', 'srs', 'psi-sf', 'ados-2modulo4'}\n"
     ]
    }
   ],
   "source": [
    "for f, l in age_ins.items():\n",
    "    print('Instrument {0} -- {1}'.format(f, set([v[0] for v in age_ins[f]])))"
   ]
  },
  {
   "cell_type": "code",
   "execution_count": 158,
   "metadata": {},
   "outputs": [
    {
     "name": "stdout",
     "output_type": "stream",
     "text": [
      "Fase F2 -- N subjects 29\n",
      "Fase F3 -- N subjects 173\n",
      "Fase F4 -- N subjects 35\n",
      "Fase F1 -- N subjects 11\n",
      "Fase F5 -- N subjects 38\n",
      "longitudinal length: 1\n",
      "longitudinal length: 1\n",
      "longitudinal length: 1\n",
      "longitudinal length: 2\n",
      "longitudinal length: 2\n",
      "longitudinal length: 1\n",
      "longitudinal length: 1\n",
      "longitudinal length: 1\n",
      "longitudinal length: 1\n",
      "longitudinal length: 2\n",
      "longitudinal length: 1\n",
      "longitudinal length: 3\n",
      "longitudinal length: 2\n",
      "longitudinal length: 2\n",
      "longitudinal length: 1\n",
      "longitudinal length: 1\n",
      "longitudinal length: 1\n",
      "longitudinal length: 2\n",
      "longitudinal length: 1\n",
      "longitudinal length: 1\n",
      "longitudinal length: 1\n",
      "longitudinal length: 1\n",
      "longitudinal length: 1\n",
      "longitudinal length: 1\n",
      "longitudinal length: 2\n",
      "longitudinal length: 1\n",
      "longitudinal length: 1\n",
      "longitudinal length: 1\n",
      "longitudinal length: 2\n",
      "longitudinal length: 1\n",
      "longitudinal length: 1\n",
      "longitudinal length: 1\n",
      "longitudinal length: 1\n",
      "longitudinal length: 1\n",
      "longitudinal length: 2\n",
      "longitudinal length: 1\n",
      "longitudinal length: 1\n",
      "longitudinal length: 1\n",
      "longitudinal length: 1\n",
      "longitudinal length: 2\n",
      "longitudinal length: 2\n",
      "longitudinal length: 1\n",
      "longitudinal length: 2\n",
      "longitudinal length: 1\n",
      "longitudinal length: 1\n",
      "longitudinal length: 1\n",
      "longitudinal length: 2\n",
      "longitudinal length: 1\n",
      "longitudinal length: 1\n",
      "longitudinal length: 1\n",
      "longitudinal length: 1\n",
      "longitudinal length: 1\n",
      "longitudinal length: 2\n",
      "longitudinal length: 1\n",
      "longitudinal length: 1\n",
      "longitudinal length: 1\n",
      "longitudinal length: 1\n",
      "longitudinal length: 1\n",
      "longitudinal length: 1\n",
      "longitudinal length: 1\n",
      "longitudinal length: 1\n",
      "longitudinal length: 1\n",
      "longitudinal length: 2\n",
      "longitudinal length: 1\n",
      "longitudinal length: 1\n",
      "longitudinal length: 1\n",
      "longitudinal length: 1\n",
      "longitudinal length: 1\n",
      "longitudinal length: 1\n",
      "longitudinal length: 1\n",
      "longitudinal length: 1\n",
      "longitudinal length: 1\n",
      "longitudinal length: 1\n",
      "longitudinal length: 1\n",
      "longitudinal length: 1\n",
      "longitudinal length: 1\n",
      "longitudinal length: 1\n",
      "longitudinal length: 1\n",
      "longitudinal length: 1\n",
      "longitudinal length: 2\n",
      "longitudinal length: 2\n",
      "longitudinal length: 1\n",
      "longitudinal length: 1\n",
      "longitudinal length: 2\n",
      "longitudinal length: 1\n",
      "longitudinal length: 1\n",
      "longitudinal length: 2\n",
      "longitudinal length: 1\n",
      "longitudinal length: 1\n",
      "longitudinal length: 1\n",
      "longitudinal length: 2\n",
      "longitudinal length: 1\n",
      "longitudinal length: 1\n",
      "longitudinal length: 2\n",
      "longitudinal length: 1\n",
      "longitudinal length: 1\n",
      "longitudinal length: 1\n",
      "longitudinal length: 1\n",
      "longitudinal length: 1\n",
      "longitudinal length: 1\n",
      "longitudinal length: 1\n",
      "longitudinal length: 1\n",
      "longitudinal length: 1\n",
      "longitudinal length: 1\n",
      "longitudinal length: 1\n",
      "longitudinal length: 1\n",
      "longitudinal length: 1\n",
      "longitudinal length: 1\n",
      "longitudinal length: 1\n",
      "longitudinal length: 2\n",
      "longitudinal length: 1\n",
      "longitudinal length: 1\n",
      "longitudinal length: 1\n",
      "longitudinal length: 2\n",
      "longitudinal length: 1\n",
      "longitudinal length: 1\n",
      "longitudinal length: 1\n",
      "longitudinal length: 1\n",
      "longitudinal length: 1\n",
      "longitudinal length: 2\n",
      "longitudinal length: 1\n",
      "longitudinal length: 1\n",
      "longitudinal length: 1\n",
      "longitudinal length: 1\n",
      "longitudinal length: 1\n",
      "longitudinal length: 1\n",
      "longitudinal length: 1\n",
      "longitudinal length: 1\n",
      "longitudinal length: 1\n",
      "longitudinal length: 1\n",
      "longitudinal length: 2\n",
      "longitudinal length: 2\n",
      "longitudinal length: 1\n",
      "longitudinal length: 1\n",
      "longitudinal length: 2\n",
      "longitudinal length: 1\n",
      "longitudinal length: 2\n",
      "longitudinal length: 1\n",
      "longitudinal length: 1\n",
      "longitudinal length: 1\n",
      "longitudinal length: 1\n",
      "longitudinal length: 1\n",
      "longitudinal length: 1\n",
      "longitudinal length: 1\n",
      "longitudinal length: 2\n",
      "longitudinal length: 1\n",
      "longitudinal length: 1\n",
      "longitudinal length: 1\n",
      "longitudinal length: 1\n",
      "longitudinal length: 1\n",
      "longitudinal length: 1\n",
      "longitudinal length: 1\n",
      "longitudinal length: 1\n",
      "longitudinal length: 1\n",
      "longitudinal length: 2\n",
      "longitudinal length: 1\n",
      "longitudinal length: 1\n",
      "longitudinal length: 1\n",
      "longitudinal length: 2\n",
      "longitudinal length: 1\n",
      "longitudinal length: 1\n",
      "longitudinal length: 1\n",
      "longitudinal length: 2\n",
      "longitudinal length: 1\n",
      "longitudinal length: 1\n",
      "longitudinal length: 1\n",
      "longitudinal length: 1\n",
      "longitudinal length: 1\n",
      "longitudinal length: 1\n",
      "longitudinal length: 1\n",
      "longitudinal length: 1\n",
      "longitudinal length: 1\n",
      "longitudinal length: 1\n",
      "longitudinal length: 1\n",
      "longitudinal length: 1\n",
      "longitudinal length: 1\n",
      "longitudinal length: 1\n",
      "longitudinal length: 2\n",
      "longitudinal length: 1\n",
      "longitudinal length: 1\n",
      "longitudinal length: 2\n",
      "longitudinal length: 2\n",
      "longitudinal length: 1\n",
      "longitudinal length: 2\n",
      "longitudinal length: 1\n",
      "longitudinal length: 1\n",
      "longitudinal length: 1\n",
      "longitudinal length: 1\n",
      "longitudinal length: 2\n",
      "longitudinal length: 1\n",
      "longitudinal length: 1\n",
      "longitudinal length: 1\n",
      "longitudinal length: 1\n",
      "longitudinal length: 1\n",
      "longitudinal length: 1\n",
      "longitudinal length: 1\n",
      "longitudinal length: 1\n",
      "longitudinal length: 1\n",
      "longitudinal length: 1\n",
      "longitudinal length: 1\n",
      "longitudinal length: 1\n",
      "longitudinal length: 1\n",
      "longitudinal length: 1\n",
      "longitudinal length: 2\n",
      "longitudinal length: 1\n",
      "longitudinal length: 1\n",
      "longitudinal length: 1\n",
      "longitudinal length: 1\n",
      "longitudinal length: 1\n",
      "longitudinal length: 1\n",
      "longitudinal length: 1\n",
      "longitudinal length: 1\n",
      "longitudinal length: 1\n",
      "longitudinal length: 1\n",
      "longitudinal length: 2\n",
      "longitudinal length: 1\n",
      "longitudinal length: 1\n",
      "longitudinal length: 1\n",
      "longitudinal length: 1\n",
      "longitudinal length: 1\n",
      "longitudinal length: 1\n",
      "longitudinal length: 1\n",
      "longitudinal length: 1\n",
      "longitudinal length: 1\n",
      "longitudinal length: 1\n",
      "longitudinal length: 1\n",
      "longitudinal length: 1\n",
      "longitudinal length: 1\n",
      "longitudinal length: 1\n",
      "longitudinal length: 1\n",
      "longitudinal length: 1\n",
      "longitudinal length: 1\n",
      "longitudinal length: 1\n",
      "longitudinal length: 1\n",
      "longitudinal length: 1\n",
      "longitudinal length: 1\n",
      "longitudinal length: 1\n",
      "longitudinal length: 1\n",
      "longitudinal length: 1\n",
      "longitudinal length: 1\n",
      "longitudinal length: 1\n",
      "longitudinal length: 1\n",
      "longitudinal length: 1\n",
      "longitudinal length: 1\n",
      "longitudinal length: 1\n"
     ]
    }
   ],
   "source": [
    "for f, l in age_ins.items():\n",
    "    print('Fase {0} -- N subjects {1}'.format(f, len(set([v[1] for v in age_ins[f]]))))\n",
    "for s in subj_age:\n",
    "    print(\"longitudinal length: {0}\".format(len(subj_age[s])))"
   ]
  },
  {
   "cell_type": "markdown",
   "metadata": {},
   "source": [
    "F1: [ados-2modulotoddler/ados-2modulo1, leiter, psi, vineland, srs]\n",
    "\n",
    "F2: [ados-2modulotoddler/ados-2modulo1/ados-2modulo2, leiter, psi, vineland, srs]\n",
    "\n",
    "F3: [ados-2modulo1/ados-2modulo2/ados-2modulo3, leiter, wppsi/wisc, psi, vineland, srs]\n",
    "\n",
    "F4: [ados-2modulo1/2/3/4, leiter, wisc/wais, psi, vineland, srs]\n",
    "\n",
    "F5: [ados-2modulo3/4, lleiter, wais, psi, vineland, srs]"
   ]
  },
  {
   "cell_type": "markdown",
   "metadata": {},
   "source": [
    "## Database period span, record numbers and age"
   ]
  },
  {
   "cell_type": "code",
   "execution_count": 6,
   "metadata": {},
   "outputs": [],
   "source": [
    "period_span = []\n",
    "for l in p_ins.values():\n",
    "    for d in l:\n",
    "        try:\n",
    "            period_span.append(datetime.strptime(d[1], '%d/%m/%Y').date())\n",
    "        except ValueError:\n",
    "            pass\n",
    "##correct wrong dates\n",
    "for idx, el in enumerate(period_span):\n",
    "    if el.year == 2019 and el.month >= 4:\n",
    "        period_span[idx] = datetime(el.year, el.day, el.month).date()"
   ]
  },
  {
   "cell_type": "code",
   "execution_count": 7,
   "metadata": {},
   "outputs": [
    {
     "name": "stdout",
     "output_type": "stream",
     "text": [
      "Period span: 2006-01-29 -- 2019-04-04\n"
     ]
    }
   ],
   "source": [
    "print(\"Period span: %s -- %s\" % (min(period_span), max(period_span)))"
   ]
  },
  {
   "cell_type": "code",
   "execution_count": 8,
   "metadata": {},
   "outputs": [
    {
     "name": "stdout",
     "output_type": "stream",
     "text": [
      "Average number of encounters: 1.3967611336032388\n",
      "Median number of encounters: 1.0\n",
      "Maximum number of encounters: 5\n",
      "Minimum number of encounters: 1\n"
     ]
    }
   ],
   "source": [
    "n_encounter = []\n",
    "for el in p_ins.values():\n",
    "    tmp = set()\n",
    "    for e in el:\n",
    "        try:\n",
    "            tmp.add(e[1].split('/')[2])\n",
    "        except IndexError:\n",
    "            pass\n",
    "    n_encounter.append(len(tmp))\n",
    "print(\"Average number of encounters: {0}\".format(np.mean(np.array(n_encounter))))\n",
    "print(\"Median number of encounters: {0}\".format(np.median(np.array(n_encounter))))\n",
    "print(\"Maximum number of encounters: {0}\".format(max(n_encounter)))\n",
    "print(\"Minimum number of encounters: {0}\".format(min(n_encounter)))"
   ]
  },
  {
   "cell_type": "code",
   "execution_count": 9,
   "metadata": {},
   "outputs": [
    {
     "name": "stdout",
     "output_type": "stream",
     "text": [
      "Average number of records per encounter: 3.3441295546558703\n",
      "Maximum number of records per encounter: 7\n",
      "Minimum number of records per encounter: 1\n"
     ]
    }
   ],
   "source": [
    "n_record = {}\n",
    "for lab, el in p_ins.items():\n",
    "    n_record[lab] = {}\n",
    "    for e in el:\n",
    "        try:\n",
    "            n_record[lab].setdefault(e[1].split('/')[2], set()).add(e[-1])\n",
    "        except IndexError:\n",
    "            pass\n",
    "\n",
    "enc_len = []\n",
    "for lab in n_record:\n",
    "    tmp = []\n",
    "    for yr in n_record[lab]:\n",
    "        tmp.append(len(n_record[lab][yr]))\n",
    "    enc_len.append(max(tmp))\n",
    "print(\"Average number of records per encounter: {0}\".format(np.mean(np.array(enc_len))))\n",
    "print(\"Maximum number of records per encounter: {0}\".format(max(enc_len)))\n",
    "print(\"Minimum number of records per encounter: {0}\".format(min(enc_len)))"
   ]
  },
  {
   "cell_type": "markdown",
   "metadata": {},
   "source": [
    "## Administered instruments"
   ]
  },
  {
   "cell_type": "code",
   "execution_count": 10,
   "metadata": {},
   "outputs": [
    {
     "name": "stdout",
     "output_type": "stream",
     "text": [
      "Instrument list: {'vineland-ii', 'wppsi', 'wais-iv', 'leiterinternationalperformancescale-revised', 'wais-r', 'ados-2modulotoddler', 'ados-2modulo2', 'emotionalavailabilityscales', 'ados-2modulo3', 'srs', 'ados-2modulo1', 'wisc-iv', 'wppsi-iiifascia40-73', 'griffithsmentaldevelopmentscales', 'psi-sf', 'ados-2modulo4', 'wisc-iii', 'wppsi-iiifascia26-311'}\n"
     ]
    }
   ],
   "source": [
    "ins = []\n",
    "for el in p_ins.values():\n",
    "    for e in el:\n",
    "        ins.append(e[-1])\n",
    "print(\"Instrument list: {0}\".format(set(ins)))"
   ]
  },
  {
   "cell_type": "code",
   "execution_count": 11,
   "metadata": {},
   "outputs": [
    {
     "name": "stdout",
     "output_type": "stream",
     "text": [
      "Mean age of the subjects: 14.043578556413035 -- Standard deviation: 9.038964396562683\n",
      "N Female: 36 -- N Male: 211\n"
     ]
    }
   ],
   "source": [
    "age = [p_dem[lab][0] for lab in p_dem.keys()]\n",
    "sex = [p_dem[lab][-1] for lab in p_dem.keys()]\n",
    "print(\"Mean age of the subjects: {0} -- Standard deviation: {1}\".format(np.mean(np.array(age)), \n",
    "                                                                        np.std(np.array(age))))\n",
    "print(\"N Female: {0} -- N Male: {1}\".format(sex.count(\"Femmina\"), sex.count(\"Maschio\")))"
   ]
  },
  {
   "cell_type": "markdown",
   "metadata": {},
   "source": [
    "## Meeting with Ari"
   ]
  },
  {
   "cell_type": "code",
   "execution_count": 51,
   "metadata": {},
   "outputs": [
    {
     "name": "stdout",
     "output_type": "stream",
     "text": [
      "lab1060 ados-2modulo1 al2.rrb_tot\n",
      "lab0776 ados-2modulo1 al2.rrb_tot\n",
      "lab0776 ados-2modulo1 al2.rrb_tot\n",
      "lab1452 ados-2modulo1 al2.rrb_tot\n",
      "lab0583 ados-2modulo2 rrb_tot\n",
      "lab0453 ados-2modulo2 rrb_tot\n",
      "lab0406 ados-2modulo3 rrb_tot\n",
      "lab0490 ados-2modulo2 rrb_tot\n",
      "lab1534 ados-2modulo2 rrb_tot\n",
      "lab1704 ados-2modulo2 rrb_tot\n",
      "lab0878 ados-2modulo3 rrb_tot\n",
      "lab1246 ados-2modulo3 rrb_tot\n",
      "lab0801 ados-2modulo3 rrb_tot\n",
      "lab0990 ados-2modulo3 rrb_tot\n",
      "lab0810 ados-2modulo3 rrb_tot\n",
      "lab0972 ados-2modulo3 rrb_tot\n",
      "lab0571 ados-2modulo3 rrb_tot\n",
      "lab0774 ados-2modulo3 rrb_tot\n",
      "lab0766 ados-2modulo3 rrb_tot\n",
      "lab0712 ados-2modulo3 rrb_tot\n",
      "lab0712 ados-2modulo3 rrb_tot\n",
      "lab1256 ados-2modulo3 rrb_tot\n",
      "lab0690 ados-2modulo3 rrb_tot\n",
      "lab1146 ados-2modulo3 rrb_tot\n",
      "lab1024 ados-2modulo3 rrb_tot\n",
      "lab0628 ados-2modulo3 rrb_tot\n",
      "lab1159 ados-2modulo3 rrb_tot\n",
      "lab0648 ados-2modulo3 rrb_tot\n",
      "lab1279 ados-2modulo3 rrb_tot\n",
      "lab0412 ados-2modulo3 rrb_tot\n",
      "lab0513 ados-2modulo3 rrb_tot\n",
      "lab0393 ados-2modulo3 rrb_tot\n",
      "lab0491 ados-2modulo3 rrb_tot\n",
      "lab1364 ados-2modulo3 rrb_tot\n",
      "lab1556 ados-2modulo3 rrb_tot\n",
      "lab1555 ados-2modulo3 rrb_tot\n",
      "lab0135 ados-2modulo3 rrb_tot\n",
      "lab1546 ados-2modulo3 rrb_tot\n",
      "lab1546 ados-2modulo3 rrb_tot\n",
      "lab1633 ados-2modulo3 rrb_tot\n",
      "lab1238 ados-2modulo3 rrb_tot\n",
      "lab1700 ados-2modulo3 rrb_tot\n",
      "lab1705 ados-2modulo3 rrb_tot\n",
      "lab0836 ados-2modulo3 rrb_tot\n",
      "lab1698 ados-2modulo3 rrb_tot\n",
      "lab1719 ados-2modulo3 rrb_tot\n",
      "Number of subjects with score 0 in rrb: 46\n"
     ]
    }
   ],
   "source": [
    "##Conteggio RRB=0 in ADOS\n",
    "count_rrb0 = 0\n",
    "for lab in p_sco:\n",
    "    for el in p_sco[lab]:\n",
    "        if 'ados' in el[0]:\n",
    "            for i, h in enumerate(h_tab[el[0]]):\n",
    "                if 'rrb' in h:\n",
    "                    if el[i+1] == '0.0' or el[i+1] == '0':\n",
    "                        print(lab, el[0], h)\n",
    "                        count_rrb0 += 1\n",
    "print(\"Number of subjects with score 0 in rrb: {0}\".format(count_rrb0))"
   ]
  },
  {
   "cell_type": "code",
   "execution_count": 52,
   "metadata": {},
   "outputs": [],
   "source": [
    "def Age(birthDate, assessmentDate):\n",
    "    days_in_year = 365.2425\n",
    "    try:\n",
    "        assDate = datetime.strptime(assessmentDate, '%d/%m/%Y').date()\n",
    "        bDate = datetime.strptime(birthDate, '%d/%m/%Y').date()\n",
    "        assAge = (assDate - bDate).days / days_in_year\n",
    "    except TypeError:\n",
    "        bDate = datetime.strptime(birthDate, '%d/%m/%Y').date()\n",
    "        assAge = -1\n",
    "    currentAge = (date.today() - bDate).days / days_in_year\n",
    "    return (currentAge, assAge)"
   ]
  },
  {
   "cell_type": "code",
   "execution_count": 53,
   "metadata": {},
   "outputs": [],
   "source": [
    "for lab, el in p_ins.items():\n",
    "    for e in el:\n",
    "        try:\n",
    "            _, age = Age(e[0], e[1])\n",
    "            e.append(age)\n",
    "        except ValueError:\n",
    "            pass"
   ]
  },
  {
   "cell_type": "code",
   "execution_count": 54,
   "metadata": {},
   "outputs": [],
   "source": [
    "##Conteggio misure ripetute nella stessa fascia d'eta', corretto per questionari genitori che sono solitamente due\n",
    "mult_val_count = {}\n",
    "for lab, el in p_ins.items():\n",
    "    test = {'fascia1':[], 'fascia2':[], 'fascia3':[],\n",
    "           'fascia4':[], 'fascia5':[]}\n",
    "    mult_val_count[lab] = []\n",
    "    for e in el:\n",
    "        try:\n",
    "            if e[-1] >= 0 and e[-1] < 2.5:\n",
    "                test['fascia1'].append(e[len(e)-2])\n",
    "            elif e[-1] >= 2.5 and e[-1] <= 6:\n",
    "                test['fascia2'].append(e[len(e)-2])\n",
    "            elif e[-1] > 6 and e[-1] <= 13:\n",
    "                test['fascia3'].append(e[len(e)-2])\n",
    "            elif e[-1] > 13 and e[-1] < 17:\n",
    "                test['fascia4'].append(e[len(e)-2])\n",
    "            elif e[-1] >= 17:\n",
    "                test['fascia5'].append(e[len(e)-2])\n",
    "        except TypeError:\n",
    "            pass\n",
    "    if len(test['fascia1']) > len(set(test['fascia1'])):\n",
    "        rep = len(test['fascia1']) - len(set(test['fascia1']))\n",
    "        if rep > 3:\n",
    "            mult_val_count[lab].append('fascia1:'+str(rep-3))\n",
    "    elif len(test['fascia2']) > len(set(test['fascia2'])):\n",
    "        rep = len(test['fascia2']) - len(set(test['fascia2']))\n",
    "        if rep > 3:\n",
    "            mult_val_count[lab].append('fascia2:'+str(rep-3))\n",
    "    elif len(test['fascia3']) > len(set(test['fascia3'])):\n",
    "        rep = len(test['fascia3']) - len(set(test['fascia3']))\n",
    "        if rep > 3:\n",
    "            mult_val_count[lab].append('fascia3:'+str(rep-3))\n",
    "    elif len(test['fascia4']) > len(set(test['fascia4'])):\n",
    "        rep = len(test['fascia4']) - len(set(test['fascia4']))\n",
    "        if rep > 3:\n",
    "            mult_val_count[lab].append('fascia4:'+str(rep-3))\n",
    "    elif len(test['fascia5']) > len(set(test['fascia5'])):\n",
    "        rep = len(test['fascia5']) - len(set(test['fascia5']))\n",
    "        if rep > 3:\n",
    "            mult_val_count[lab].append('fascia5:'+str(rep-3))"
   ]
  },
  {
   "cell_type": "code",
   "execution_count": 55,
   "metadata": {},
   "outputs": [],
   "source": [
    "# with open(os.path.join(DATA_FOLDER, 'multiple-valutazioni.txt'), 'w') as f:\n",
    "#     wr = csv.writer(f)\n",
    "#     wr.writerow(['ID_SUBJ', 'FasciaEta:N'])\n",
    "#     for lab in mult_val_count:\n",
    "#         if len(mult_val_count[lab])>0:\n",
    "#             wr.writerow([lab, mult_val_count[lab]])"
   ]
  },
  {
   "cell_type": "code",
   "execution_count": 56,
   "metadata": {},
   "outputs": [
    {
     "name": "stdout",
     "output_type": "stream",
     "text": [
      "lab0740 ['fascia2:3']\n",
      "lab0837 ['fascia2:2']\n",
      "lab1060 ['fascia2:2']\n",
      "lab1267 ['fascia2:1']\n",
      "lab1334 ['fascia2:4']\n",
      "lab1340 ['fascia2:6']\n",
      "lab1382 ['fascia2:5']\n",
      "lab1447 ['fascia2:1']\n",
      "lab1472 ['fascia2:3']\n",
      "lab1492 ['fascia2:1']\n",
      "lab1545 ['fascia2:2']\n",
      "lab1546 ['fascia4:5']\n",
      "lab1555 ['fascia3:1']\n",
      "lab1600 ['fascia3:6']\n",
      "lab1708 ['fascia4:1']\n"
     ]
    }
   ],
   "source": [
    "for lab in mult_val_count:\n",
    "    if len(mult_val_count[lab]) > 0:\n",
    "        print(lab, mult_val_count[lab])"
   ]
  },
  {
   "cell_type": "code",
   "execution_count": 57,
   "metadata": {},
   "outputs": [],
   "source": [
    "##Contare chi ha WPPSI e LEITER in F1-F2 e VINELAND in F3\n",
    "leiterf1f2 = 0\n",
    "wppsif1f2 = 0\n",
    "vinelandf3 = 0\n",
    "for lab, el in p_ins.items():\n",
    "    for e in el:\n",
    "        try:\n",
    "            if (e[-1] >= 0 and e[-1] <= 6):\n",
    "                if 'wppsi' in e[len(e)-2]:\n",
    "                        wppsif1f2 += 1\n",
    "                elif 'leiter' in e[len(e)-2]:\n",
    "                        leiterf1f2 += 1\n",
    "            elif (e[-1] > 6 and e[-1] <= 13) and 'vineland' in e[len(e)-2]:\n",
    "                vinelandf3 += 0.5\n",
    "        except TypeError:\n",
    "            pass"
   ]
  },
  {
   "cell_type": "code",
   "execution_count": 58,
   "metadata": {},
   "outputs": [
    {
     "name": "stdout",
     "output_type": "stream",
     "text": [
      "N Leiter in f1/f2: 38 -- N wppsi in f1/f2: 18 -- N vineland in f3: 25.0\n"
     ]
    }
   ],
   "source": [
    "print(\"N Leiter in f1/f2: {0} -- N wppsi in f1/f2: {1} -- N vineland in f3: {2}\".format(leiterf1f2,\n",
    "                                                                                        wppsif1f2,\n",
    "                                                                                        vinelandf3))"
   ]
  },
  {
   "cell_type": "code",
   "execution_count": 59,
   "metadata": {},
   "outputs": [
    {
     "name": "stdout",
     "output_type": "stream",
     "text": [
      "N leiter: 73\n"
     ]
    }
   ],
   "source": [
    "## Numero di leiter totali per capire se includere le sottoscale anche\n",
    "n_leiter = 0\n",
    "for lab, el in p_ins.items():\n",
    "    n_tmp = 0\n",
    "    for e in el:\n",
    "        if 'leiter' in e[len(e)-2]:\n",
    "            n_tmp += 1\n",
    "    if n_tmp >= 1:\n",
    "        n_leiter += 1\n",
    "print(\"N leiter: %d\" % n_leiter)"
   ]
  },
  {
   "cell_type": "code",
   "execution_count": 65,
   "metadata": {},
   "outputs": [
    {
     "name": "stdout",
     "output_type": "stream",
     "text": [
      "lab0656 ['03/11/2006', '11/04/2006', 'Maschio', 'ados-2modulo1', -0.5640088434396325]\n",
      "lab0690 ['04/12/2002', '30/05/2002', 'Maschio', 'psi-sf', -0.5147265173138394]\n",
      "lab0690 ['04/12/2002', '30/05/2002', 'Maschio', 'psi-sf', -0.5147265173138394]\n",
      "lab0714 ['25/11/2004', '01/09/2004', 'Maschio', 'srs', -0.23272209559402315]\n",
      "lab0772 ['24/02/2003', '05/02/2003', 'Maschio', 'psi-sf', -0.052020233132781646]\n",
      "lab0993 ['20/07/2017', '18/06/2017', 'Maschio', 'srs', -0.08761302422363225]\n",
      "lab1254 ['03/08/2017', '08/06/2017', 'Maschio', 'srs', -0.15332279239135643]\n",
      "lab1555 ['06/04/2018', '15/02/2018', 'Maschio', 'psi-sf', -0.13689535034942538]\n",
      "lab1558 ['24/03/2018', '25/01/2018', 'Maschio', 'vineland-ii', -0.15879860640533344]\n",
      "lab1567 ['31/10/2018', '27/02/2018', 'Maschio', 'psi-sf', -0.6735251237191728]\n",
      "lab1567 ['31/10/2018', '27/02/2018', 'Maschio', 'srs', -0.6735251237191728]\n",
      "lab1701 ['27/12/2019', '11/01/2019', 'Maschio', 'srs', -0.9582674524459777]\n"
     ]
    }
   ],
   "source": [
    "for lab, el in p_ins.items():\n",
    "    try:\n",
    "        for e in el:\n",
    "            if e[-1] <= 0:\n",
    "                print(lab, e)\n",
    "    except TypeError:\n",
    "        pass"
   ]
  },
  {
   "cell_type": "code",
   "execution_count": null,
   "metadata": {},
   "outputs": [],
   "source": []
  }
 ],
 "metadata": {
  "kernelspec": {
   "display_name": "Python 3",
   "language": "python",
   "name": "python3"
  },
  "language_info": {
   "codemirror_mode": {
    "name": "ipython",
    "version": 3
   },
   "file_extension": ".py",
   "mimetype": "text/x-python",
   "name": "python",
   "nbconvert_exporter": "python",
   "pygments_lexer": "ipython3",
   "version": "3.6.8"
  }
 },
 "nbformat": 4,
 "nbformat_minor": 2
}
