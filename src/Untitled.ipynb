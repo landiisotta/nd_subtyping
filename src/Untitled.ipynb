{
 "cells": [
  {
   "cell_type": "code",
   "execution_count": 2,
   "metadata": {},
   "outputs": [],
   "source": [
    "import csv\n",
    "import os\n",
    "import numpy as np\n",
    "import re\n",
    "import argparse\n",
    "import sys\n",
    "from sklearn import feature_extraction, decomposition\n",
    "from sklearn.cluster import AgglomerativeClustering\n",
    "from sklearn.metrics import silhouette_score\n",
    "from sklearn.manifold import TSNE\n"
   ]
  },
  {
   "cell_type": "code",
   "execution_count": null,
   "metadata": {},
   "outputs": [],
   "source": [
    "def create_vocabulary(indir, outdir, level=None):\n",
    "    headers = _load_data(indir, 'header-tables.csv')\n",
    "    cscores = _load_data(indir, 'person_scores.csv') # [ins_str, age in yrs, sex, DOB, DOA, ...]\n",
    "    \n",
    "    # behavioral ehrs (create vocabulary terms)\n",
    "    behr = {}\n",
    "    for lab, ins in cscores.items():\n",
    "        for el in ins:\n",
    "            if bool(re.match('ados', el[0])):\n",
    "                tmp = el[0:3] + ['::'.join(['ados', \n",
    "                                            headers[el[0]][idx-1], \n",
    "                                            el[idx]]) for idx in range(6, len(el)) if el[idx] != '']\n",
    "            elif bool(re.match('vin|psi|srs', el[0])):\n",
    "                tmp = el[0:3] + ['::'.join([el[0],\n",
    "                                            el[6],\n",
    "                                            headers[el[0]][idx-1], \n",
    "                                            el[idx]]) for idx in range(7, len(el)) if el[idx] != '']\n",
    "            else:\n",
    "                tmp = el[0:3] + ['::'.join([el[0], headers[el[0]][idx-1], \n",
    "                                            el[idx]]) for idx in range(6, len(el)) if el[idx] != '']\n",
    "        behr.setdefault(lab, list()).append(tmp)\n",
    "    behr[lab] = sorted(behr[lab], key=lambda x: (x[1], x[0]))\n",
    "    \n",
    "    # select the depth of scores\n",
    "    deep_behr = {}\n",
    "    if level == 1:\n",
    "        for lab, ins in behr.items():\n",
    "            for el in ins:\n",
    "                if bool(re.match('wa|wi|leit', el[0])):\n",
    "                    tmp = el[0:3] + list(filter(lambda x: bool(re.search('scaled', x)), el))\n",
    "                elif bool(re.match('vinel', el[0])):\n",
    "                    tmp = el[0:3] + list(filter(lambda x: bool(re.search('scaled', x)), el))\n",
    "                elif bool(re.match('ados-2modulo[1|T]', el[0])):\n",
    "                    tmp = list(filter(lambda x: bool(re.search('\\.[a|b]', x)), el))\n",
    "                    tmp = el[0:3] + list(map(lambda x: '::'.join(['ados', x.split('.')[1]]),tmp)) \n",
    "                elif bool(re.match('ados-2modulo[2|3|4]', el[0])):\n",
    "                    tmp = list(filter(lambda x: not(bool(re.search('tot|score|lang|algor', x))), \n",
    "                               el))\n",
    "                elif bool(re.match('psi|srs', el[0])):\n",
    "                    tmp = el[0:3] + list(filter(lambda x: bool(re.search('raw', x)) \n",
    "                                                          and not(bool(re.search('raw_dr|raw_ts|raw_tot', x))), \n",
    "                                                el))\n",
    "                else:\n",
    "                    tmp = el[0:3] + list(filter(lambda x: bool(re.search('q_', x)), el))\n",
    "            deep_behr.setdefault(lab, list()).append(tmp)\n",
    "    elif level == 2:\n",
    "        for lab, ins in behr.items():\n",
    "            for el in ins:\n",
    "                if bool(re.match('wa|wi', el[0])):\n",
    "                    tmp = el[0:3] + list(filter(lambda x: bool(re.search('sumScaled_[PR|VC|V|P|WM|PS|PO|GL]', x)), el))\n",
    "                elif bool(re.match('leit', el[0])):\n",
    "                    tmp = el[0:3] + list(filter(lambda x: bool(re.search('scaled', x)), el)) # rimane lo stesso anche LEITER\n",
    "                elif bool(re.match('vinel', el[0])):\n",
    "                    tmp = el[0:3] + list(filter(lambda x: bool(re.search('sum_', x)), el))\n",
    "                elif bool(re.match('ados-2modulo[1|T]', el[0])):\n",
    "                    tmp = list(filter(lambda x: bool(re.search('\\.[sa_tot|rrb_tot]', x)), el))\n",
    "                    tmp = el[0:3] + list(map(lambda x: '::'.join(['ados', x.split('.')[1]]),tmp)) \n",
    "                elif bool(re.match('ados-2modulo[2|3]', el[0])):\n",
    "                    tmp = list(filter(lambda x: not(bool(re.search('sarrb_tot|a|b|score|lang|algor', x))), \n",
    "                               el))\n",
    "                elif bool(re.match('ados-2modulo4', el[0])):\n",
    "                    tmp = list(filter(lambda x: bool(re.search('comm_|::si_|sbri_', x)), el))\n",
    "                    tmp = el[0:3] + list(map(lambda x: '::'.join(['ados-m4', x]), tmp)) \n",
    "                elif bool(re.match('psi|srs', el[0])):\n",
    "                    tmp = el[0:3] + list(filter(lambda x: bool(re.search('raw', x)) \n",
    "                                                          and not(bool(re.search('raw_dr|raw_ts|raw_tot', x))), \n",
    "                                                el)) # rimangono come al livello 1\n",
    "                else:\n",
    "                    # GMDS rimangono i quozienti al secondo livello\n",
    "                    tmp = el[0:3] + list(filter(lambda x: bool(re.search('q_', x)), el))\n",
    "            deep_behr.setdefault(lab, list()).append(tmp)\n",
    "    else:\n",
    "        for lab, ins in behr.items():\n",
    "            for el in ins:\n",
    "                if bool(re.match('wa|wi|leit', el[0])):\n",
    "                    tmp = el[0:3] + list(filter(lambda x: bool(re.search('sumScaled_FS', x)), el))\n",
    "                elif bool(re.match('leit', el[0])):\n",
    "                    tmp = el[0:3] + list(filter(lambda x: bool(re.search('sumScaled_[fr|BIQ]]', x)), el))\n",
    "                elif bool(re.match('vinel', el[0])):\n",
    "                    tmp = el[0:3] + list(filter(lambda x: bool(re.search('standard_ABC', x)), el))\n",
    "                elif bool(re.match('ados-2modulo[1]', el[0])):\n",
    "                    tmp = list(filter(lambda x: bool(re.search('\\.sarrb_tot', x)), el))\n",
    "                    tmp = el[0:3] + list(map(lambda x: '::'.join(['ados', x.split('.')[1]]),tmp)) \n",
    "                elif bool(re.match('ados-2modulo[2|3|T]', el[0])):\n",
    "                    tmp = el[0:3] + list(filter(lambda x: bool(re.search('sarrb_tot', x)), \n",
    "                               el))\n",
    "                elif bool(re.match('ados-2modulo4', el[0])):\n",
    "                    tmp = list(filter(lambda x: bool(re.search('commsi_|sbri_', x)), el))\n",
    "                    tmp = el[0:3] + list(map(lambda x: '::'.join(['ados-m4', x]), tmp)) \n",
    "                elif bool(re.match('psi|srs', el[0])):\n",
    "                    tmp = el[0:3] + list(filter(lambda x: bool(re.search('raw_[ts|tot]', x)) \n",
    "                                                          and not(bool(re.search('raw_dr', x))), \n",
    "                                                el))\n",
    "                else:\n",
    "                    tmp = el[0:3] + list(filter(lambda x: bool(re.search('GQ', x)), el))\n",
    "            deep_behr.setdefault(lab, list()).append(tmp)\n",
    "            \n",
    "    lab_to_idx = idx_to_lab = {}\n",
    "    idx = 0\n",
    "    for lab, seq in deep_behr.items():\n",
    "        for vec in seq:\n",
    "            for v in vec[3::]:\n",
    "                if v not in lab_to_idx:\n",
    "                    lab_to_idx[v] = idx\n",
    "                    idx_to_lab[idx] = v\n",
    "                    idx += 1\n",
    "                    \n",
    "    # write files\n",
    "    with open(os.path.join(outdir, 'cohort-behr.csv'), 'w') as f:\n",
    "    wr = csv.writer(f)\n",
    "    wr.writerow(['ID_SUBJ', 'EVAL_AGE', 'TERM'])\n",
    "    for lab, seq in deep_behr.items():\n",
    "        for s in seq:\n",
    "            for idx in range(6, len(s)):\n",
    "                wr.writerow([lab, s[1], vocab[s[idx]]])\n",
    "                \n",
    "    with open(os.path.join(outdir, 'cohort-vocab.csv'), 'w') as f:\n",
    "    wr = csv.writer(f)\n",
    "    wr.writerow(['LABEL', 'INDEX'])\n",
    "    for l, idx in lab_to_idx.items():\n",
    "        wr.writerow([l, idx])\n"
   ]
  },
  {
   "cell_type": "code",
   "execution_count": null,
   "metadata": {},
   "outputs": [],
   "source": [
    "\"\"\"\n",
    "Private Functions\n",
    "\"\"\"\n",
    "\n",
    "def _load_data(indir, file):\n",
    "    with open(os.path.join(indir, file)) as f:\n",
    "        rd = csv.reader(f)\n",
    "        mydict = {r[0]:r[1::] for r in rd}"
   ]
  },
  {
   "cell_type": "code",
   "execution_count": null,
   "metadata": {},
   "outputs": [],
   "source": [
    "\"\"\"\n",
    "Main Function\n",
    "\"\"\"\n",
    "\n",
    "def _process_args():\n",
    "    parser = argparse.ArgumentParser(\n",
    "             description='create vocabulary for behavioral phenotype,' \n",
    "                         ' 3 possible levels')\n",
    "    parser.add_argument(dest='indir', help='data directory')\n",
    "    parser.add_argument(dest='level', help='choose behavioral profile depth')\n",
    "    return parser.parser_args(sys.argv[1:])\n",
    "\n",
    "\n",
    "if __name__ == '__main__':\n",
    "    args = _process_args()\n",
    "    print('')\n",
    "    \n",
    "    start = time()\n",
    "    outdir = os.path.join(indir, 'level-{0}'.format(args.level))\n",
    "    os.makedirs(outdir)\n",
    "    create_vocabulary(indir=args.indir,\n",
    "                      outdir=outdir,\n",
    "                      level=args.level)"
   ]
  },
  {
   "cell_type": "code",
   "execution_count": 9,
   "metadata": {},
   "outputs": [],
   "source": [
    "tfidf_mtx = np.zeros([len(behr1l), len(vocab)], dtype=int)"
   ]
  },
  {
   "cell_type": "code",
   "execution_count": 10,
   "metadata": {},
   "outputs": [
    {
     "data": {
      "text/plain": [
       "(247, 2118)"
      ]
     },
     "execution_count": 10,
     "metadata": {},
     "output_type": "execute_result"
    }
   ],
   "source": [
    "tfidf_mtx.shape"
   ]
  },
  {
   "cell_type": "code",
   "execution_count": 133,
   "metadata": {},
   "outputs": [],
   "source": [
    "raw_behr = {}\n",
    "tfidf_mtx = []\n",
    "for idx, (lab, ehr) in enumerate(behr1l.items()):\n",
    "    tmp = []\n",
    "    for vec in ehr:\n",
    "        for v in vec[3::]:\n",
    "            tmp.append(str(vocab[v]))\n",
    "    tfidf_mtx.append(' '.join([t for t in tmp]))\n",
    "    raw_behr[lab] = [int(t) for t in tmp]"
   ]
  },
  {
   "cell_type": "code",
   "execution_count": 134,
   "metadata": {},
   "outputs": [
    {
     "data": {
      "text/plain": [
       "247"
      ]
     },
     "execution_count": 134,
     "metadata": {},
     "output_type": "execute_result"
    }
   ],
   "source": [
    "len(tfidf_mtx)"
   ]
  },
  {
   "cell_type": "code",
   "execution_count": 135,
   "metadata": {},
   "outputs": [],
   "source": [
    "tfidf = feature_extraction.text.TfidfVectorizer()\n",
    "tfidf_mtx = tfidf.fit_transform(tfidf_mtx)"
   ]
  },
  {
   "cell_type": "code",
   "execution_count": 136,
   "metadata": {},
   "outputs": [],
   "source": [
    "# tfidf.get_feature_names()"
   ]
  },
  {
   "cell_type": "code",
   "execution_count": 137,
   "metadata": {},
   "outputs": [
    {
     "data": {
      "text/plain": [
       "(247, 2108)"
      ]
     },
     "execution_count": 137,
     "metadata": {},
     "output_type": "execute_result"
    }
   ],
   "source": [
    "tfidf_mtx.shape"
   ]
  },
  {
   "cell_type": "code",
   "execution_count": 138,
   "metadata": {},
   "outputs": [],
   "source": [
    "svd = decomposition.TruncatedSVD(n_components=10)\n",
    "svd_mtx = svd.fit_transform(tfidf_mtx)"
   ]
  },
  {
   "cell_type": "code",
   "execution_count": 139,
   "metadata": {},
   "outputs": [
    {
     "data": {
      "text/plain": [
       "array([[ 1.31869994e-01, -2.04072689e-01,  7.71112297e-02, ...,\n",
       "         3.94109029e-03, -9.59615593e-02, -5.16261854e-02],\n",
       "       [ 2.60673965e-01, -1.98629203e-01, -1.06560672e-02, ...,\n",
       "        -6.41484063e-02,  7.74631539e-03,  4.12213915e-02],\n",
       "       [ 1.65661987e-01, -2.62739221e-01,  5.76993695e-02, ...,\n",
       "        -8.29491019e-02,  4.58630596e-02, -1.03072009e-01],\n",
       "       ...,\n",
       "       [ 6.02403484e-03, -1.24929475e-02, -2.41781568e-04, ...,\n",
       "        -2.94591601e-04, -2.86743141e-02,  1.80646153e-02],\n",
       "       [ 9.85959033e-04, -2.54196122e-03,  1.10968268e-03, ...,\n",
       "        -8.55505080e-04, -1.17443585e-02,  5.71116979e-03],\n",
       "       [ 5.96680283e-02,  1.83428195e-02, -1.35935562e-01, ...,\n",
       "        -2.49568755e-01,  1.09825847e-02,  1.13993081e-01]])"
      ]
     },
     "execution_count": 139,
     "metadata": {},
     "output_type": "execute_result"
    }
   ],
   "source": [
    "svd_mtx"
   ]
  },
  {
   "cell_type": "code",
   "execution_count": 140,
   "metadata": {},
   "outputs": [
    {
     "name": "stdout",
     "output_type": "stream",
     "text": [
      "0.16614831575757247\n",
      "0.1964337607037473\n",
      "0.1985862807712355\n",
      "0.20883881708771712\n",
      "0.20419160713183035\n",
      "0.21641415568040978\n",
      "0.23549154044446394\n",
      "0.21684030566898893\n",
      "0.217113389473934\n",
      "0.21251519840374872\n",
      "0.21344627941247885\n",
      "0.21539929044739764\n",
      "0.21846270692000513\n",
      "0.22158967524677306\n",
      "0.21582376977343556\n",
      "0.22183777044541014\n",
      "0.22082723865308052\n",
      "0.2225061865211414\n"
     ]
    }
   ],
   "source": [
    "silh_best = 0\n",
    "for n_clu in range(2,20):\n",
    "    HCalg = AgglomerativeClustering(n_clu)\n",
    "    hc_lab = HCalg.fit_predict(svd_mtx)\n",
    "    silh_tmp = silhouette_score(svd_mtx, hc_lab)\n",
    "    print(silh_tmp)\n",
    "    if silh_tmp > silh_best:\n",
    "        silh_best = silh_tmp\n",
    "        best_nclu = n_clu\n",
    "        best_hclab = hc_lab"
   ]
  },
  {
   "cell_type": "code",
   "execution_count": 141,
   "metadata": {},
   "outputs": [
    {
     "name": "stdout",
     "output_type": "stream",
     "text": [
      "8 0.23549154044446394\n"
     ]
    }
   ],
   "source": [
    "print(best_nclu, silh_best)"
   ]
  },
  {
   "cell_type": "code",
   "execution_count": 142,
   "metadata": {},
   "outputs": [
    {
     "data": {
      "text/plain": [
       "(array([0, 1, 2, 3, 4, 5, 6, 7]), array([23, 46, 47, 28, 36, 32,  9, 26]))"
      ]
     },
     "execution_count": 142,
     "metadata": {},
     "output_type": "execute_result"
    }
   ],
   "source": [
    "np.unique(best_hclab, return_counts=True)"
   ]
  },
  {
   "cell_type": "code",
   "execution_count": 143,
   "metadata": {},
   "outputs": [],
   "source": [
    "def FreqDict(tokens):\n",
    "    freq_dict = {}\n",
    "    tok = []\n",
    "    for seq in tokens:\n",
    "        tok.extend(seq)\n",
    "    tok = set(tok)\n",
    "    for t in tok:\n",
    "        for seq in tokens:\n",
    "            if t in seq:\n",
    "                if t not in freq_dict:\n",
    "                    freq_dict[t] = 1\n",
    "                else:\n",
    "                    freq_dict[t] += 1\n",
    "    return freq_dict\n",
    "\n",
    "def freq_term(data, pred_class, vocab, raw_ehr):\n",
    "    list_terms = []\n",
    "    for subc in range(len(set(pred_class))):\n",
    "        tmp_data = {}\n",
    "        for j in range(len(pred_class)):\n",
    "            if pred_class[j] == subc:\n",
    "                tmp_data.setdefault(subc, list()).append([rd for rd in data[j] \n",
    "                                                           if rd!=0])\n",
    "        print(\"Cluster {0} numerosity: {1}\".format(subc, len(tmp_data[subc])))\n",
    "        term_count = FreqDict(tmp_data[subc])\n",
    "        clust_mostfreq = []\n",
    "        for l in range(20):\n",
    "            try:\n",
    "                MFMT = max(term_count, key=(lambda key: term_count[key]))\n",
    "                num_MFMT = 0\n",
    "                subc_termc = 0\n",
    "                for ehr in tmp_data[subc]:\n",
    "                    for e in ehr:\n",
    "                        if e == MFMT:\n",
    "                            subc_termc += 1\n",
    "                for seq in raw_ehr.values():\n",
    "                    for t in seq:\n",
    "                        if t == MFMT:\n",
    "                            num_MFMT += 1\n",
    "                print(\"% most frequent term:{0} \"\n",
    "                       \"= {1:.2f} ({2} out of {3} terms in the whole dataset\"\n",
    "                       \"-- N patients in cluster {4})\".format(vocab[MFMT], \n",
    "                                                              subc_termc/num_MFMT, \n",
    "                                                              subc_termc,\n",
    "                                                              num_MFMT,\n",
    "                                                              term_count[MFMT]))\n",
    "                term_count.pop(MFMT)\n",
    "                clust_mostfreq.append(MFMT)\n",
    "            except ValueError:\n",
    "                pass\n",
    "        print(\"\\n\")\n",
    "        list_terms.append(clust_mostfreq)\n",
    "    return"
   ]
  },
  {
   "cell_type": "code",
   "execution_count": 144,
   "metadata": {},
   "outputs": [
    {
     "name": "stdout",
     "output_type": "stream",
     "text": [
      "Cluster 0 numerosity: 23\n",
      "% most frequent term:ados::b1::2 = 0.02 (4 out of 224 terms in the whole dataset-- N patients in cluster 4)\n",
      "% most frequent term:ados::b9::2 = 0.05 (4 out of 80 terms in the whole dataset-- N patients in cluster 4)\n",
      "% most frequent term:vineland-ii::Madre e Padre insieme::scaled_per::8 = 0.71 (5 out of 7 terms in the whole dataset-- N patients in cluster 4)\n",
      "% most frequent term:vineland-ii::Madre e Padre insieme::scaled_rec::7 = 0.62 (5 out of 8 terms in the whole dataset-- N patients in cluster 4)\n",
      "% most frequent term:vineland-ii::Madre e Padre insieme::scaled_exp::4 = 0.70 (7 out of 10 terms in the whole dataset-- N patients in cluster 4)\n",
      "% most frequent term:vineland-ii::Madre e Padre insieme::scaled_wri::5 = 0.75 (6 out of 8 terms in the whole dataset-- N patients in cluster 4)\n",
      "% most frequent term:ados::b3::1 = 0.03 (3 out of 90 terms in the whole dataset-- N patients in cluster 3)\n",
      "% most frequent term:ados::b5::1 = 0.06 (3 out of 53 terms in the whole dataset-- N patients in cluster 3)\n",
      "% most frequent term:ados::b10::2 = 0.07 (3 out of 44 terms in the whole dataset-- N patients in cluster 3)\n",
      "% most frequent term:leiterinternationalperformancescale-revised::scaled_fg::1 = 0.27 (3 out of 11 terms in the whole dataset-- N patients in cluster 3)\n",
      "% most frequent term:vineland-ii::Madre e Padre insieme::scaled_ir::6 = 0.75 (3 out of 4 terms in the whole dataset-- N patients in cluster 3)\n",
      "% most frequent term:ados::a8::2 = 0.05 (3 out of 58 terms in the whole dataset-- N patients in cluster 3)\n",
      "% most frequent term:vineland-ii::Madre e Padre insieme::scaled_cs::8 = 0.44 (4 out of 9 terms in the whole dataset-- N patients in cluster 3)\n",
      "% most frequent term:psi-sf::Padre::raw_pcdi::23 = 0.30 (3 out of 10 terms in the whole dataset-- N patients in cluster 3)\n",
      "% most frequent term:ados::b12::2 = 0.10 (3 out of 30 terms in the whole dataset-- N patients in cluster 3)\n",
      "% most frequent term:vineland-ii::Madre e Padre insieme::scaled_cs::7 = 0.62 (5 out of 8 terms in the whole dataset-- N patients in cluster 3)\n",
      "% most frequent term:leiterinternationalperformancescale-revised::scaled_so::1 = 0.30 (3 out of 10 terms in the whole dataset-- N patients in cluster 3)\n",
      "% most frequent term:leiterinternationalperformancescale-revised::scaled_rp::1 = 0.38 (3 out of 8 terms in the whole dataset-- N patients in cluster 3)\n",
      "% most frequent term:vineland-ii::Madre e Padre insieme::scaled_community::3 = 1.00 (6 out of 6 terms in the whole dataset-- N patients in cluster 3)\n",
      "% most frequent term:vineland-ii::Madre e Padre insieme::scaled_play::5 = 0.71 (5 out of 7 terms in the whole dataset-- N patients in cluster 3)\n",
      "\n",
      "\n",
      "Cluster 1 numerosity: 46\n",
      "% most frequent term:ados::b1::2 = 0.21 (47 out of 224 terms in the whole dataset-- N patients in cluster 39)\n",
      "% most frequent term:ados::a4::0 = 0.28 (41 out of 144 terms in the whole dataset-- N patients in cluster 36)\n",
      "% most frequent term:ados::d1::0 = 0.29 (41 out of 142 terms in the whole dataset-- N patients in cluster 35)\n",
      "% most frequent term:ados::d2::0 = 0.28 (40 out of 143 terms in the whole dataset-- N patients in cluster 33)\n",
      "% most frequent term:ados::b9::1 = 0.31 (34 out of 110 terms in the whole dataset-- N patients in cluster 31)\n",
      "% most frequent term:ados::b7::1 = 0.51 (32 out of 63 terms in the whole dataset-- N patients in cluster 30)\n",
      "% most frequent term:ados::b2::1 = 0.27 (35 out of 128 terms in the whole dataset-- N patients in cluster 29)\n",
      "% most frequent term:ados::b11::1 = 0.28 (28 out of 99 terms in the whole dataset-- N patients in cluster 27)\n",
      "% most frequent term:ados::d4::0 = 0.25 (28 out of 112 terms in the whole dataset-- N patients in cluster 25)\n",
      "% most frequent term:ados::a7::1 = 0.28 (29 out of 105 terms in the whole dataset-- N patients in cluster 24)\n",
      "% most frequent term:ados::b4::1 = 0.27 (24 out of 88 terms in the whole dataset-- N patients in cluster 21)\n",
      "% most frequent term:ados::b10::1 = 0.26 (22 out of 84 terms in the whole dataset-- N patients in cluster 21)\n",
      "% most frequent term:ados::a8::1 = 0.21 (19 out of 89 terms in the whole dataset-- N patients in cluster 18)\n",
      "% most frequent term:ados::a8::2 = 0.38 (22 out of 58 terms in the whole dataset-- N patients in cluster 18)\n",
      "% most frequent term:ados::d4::1 = 0.38 (19 out of 50 terms in the whole dataset-- N patients in cluster 17)\n",
      "% most frequent term:ados::a9::1 = 0.42 (19 out of 45 terms in the whole dataset-- N patients in cluster 17)\n",
      "% most frequent term:ados::a7::2 = 0.50 (17 out of 34 terms in the whole dataset-- N patients in cluster 15)\n",
      "% most frequent term:ados::b10::2 = 0.41 (18 out of 44 terms in the whole dataset-- N patients in cluster 14)\n",
      "% most frequent term:ados::b4::0 = 0.22 (14 out of 64 terms in the whole dataset-- N patients in cluster 14)\n",
      "% most frequent term:ados::a9::2 = 0.62 (15 out of 24 terms in the whole dataset-- N patients in cluster 14)\n",
      "\n",
      "\n",
      "Cluster 2 numerosity: 47\n",
      "% most frequent term:ados::a4::0 = 0.35 (50 out of 144 terms in the whole dataset-- N patients in cluster 45)\n",
      "% most frequent term:ados::d1::0 = 0.33 (47 out of 142 terms in the whole dataset-- N patients in cluster 44)\n",
      "% most frequent term:ados::d2::0 = 0.34 (48 out of 143 terms in the whole dataset-- N patients in cluster 43)\n",
      "% most frequent term:ados::d4::0 = 0.40 (45 out of 112 terms in the whole dataset-- N patients in cluster 40)\n",
      "% most frequent term:ados::d5::0 = 0.98 (40 out of 41 terms in the whole dataset-- N patients in cluster 39)\n",
      "% most frequent term:ados::b1::2 = 0.17 (38 out of 224 terms in the whole dataset-- N patients in cluster 36)\n",
      "% most frequent term:ados::b8::0 = 0.95 (37 out of 39 terms in the whole dataset-- N patients in cluster 36)\n",
      "% most frequent term:ados::b2::1 = 0.30 (39 out of 128 terms in the whole dataset-- N patients in cluster 35)\n",
      "% most frequent term:ados::b11::1 = 0.29 (29 out of 99 terms in the whole dataset-- N patients in cluster 29)\n",
      "% most frequent term:ados::a9::0 = 0.41 (30 out of 73 terms in the whole dataset-- N patients in cluster 28)\n",
      "% most frequent term:ados::b9::1 = 0.25 (28 out of 110 terms in the whole dataset-- N patients in cluster 26)\n",
      "% most frequent term:ados::b12::0 = 0.61 (27 out of 44 terms in the whole dataset-- N patients in cluster 26)\n",
      "% most frequent term:ados::a8::0 = 0.33 (29 out of 89 terms in the whole dataset-- N patients in cluster 25)\n",
      "% most frequent term:ados::c1::1 = 1.00 (23 out of 23 terms in the whole dataset-- N patients in cluster 23)\n",
      "% most frequent term:ados::b11::0 = 0.28 (23 out of 81 terms in the whole dataset-- N patients in cluster 21)\n",
      "% most frequent term:ados::a10::1 = 0.96 (22 out of 23 terms in the whole dataset-- N patients in cluster 21)\n",
      "% most frequent term:ados::a9::1 = 0.40 (18 out of 45 terms in the whole dataset-- N patients in cluster 17)\n",
      "% most frequent term:ados::a8::1 = 0.19 (17 out of 89 terms in the whole dataset-- N patients in cluster 16)\n",
      "% most frequent term:ados::b12::1 = 0.15 (16 out of 104 terms in the whole dataset-- N patients in cluster 16)\n",
      "% most frequent term:ados::b9::0 = 0.37 (17 out of 46 terms in the whole dataset-- N patients in cluster 16)\n",
      "\n",
      "\n",
      "Cluster 3 numerosity: 28\n",
      "% most frequent term:ados::b1::2 = 0.11 (25 out of 224 terms in the whole dataset-- N patients in cluster 24)\n",
      "% most frequent term:ados::b3::1 = 0.19 (17 out of 90 terms in the whole dataset-- N patients in cluster 16)\n",
      "% most frequent term:ados::b12::1 = 0.14 (15 out of 104 terms in the whole dataset-- N patients in cluster 14)\n",
      "% most frequent term:ados::b10::1 = 0.17 (14 out of 84 terms in the whole dataset-- N patients in cluster 14)\n",
      "% most frequent term:ados::a8::1 = 0.15 (13 out of 89 terms in the whole dataset-- N patients in cluster 12)\n",
      "% most frequent term:ados::b9::1 = 0.11 (12 out of 110 terms in the whole dataset-- N patients in cluster 12)\n",
      "% most frequent term:ados::b5::0 = 0.21 (12 out of 56 terms in the whole dataset-- N patients in cluster 12)\n",
      "% most frequent term:vineland-ii::Madre e Padre insieme::scaled_gm::11 = 0.87 (13 out of 15 terms in the whole dataset-- N patients in cluster 12)\n",
      "% most frequent term:vineland-ii::Madre e Padre insieme::scaled_play::9 = 0.72 (13 out of 18 terms in the whole dataset-- N patients in cluster 12)\n",
      "% most frequent term:ados::a7::1 = 0.11 (12 out of 105 terms in the whole dataset-- N patients in cluster 11)\n",
      "% most frequent term:ados::b4::2 = 0.31 (11 out of 36 terms in the whole dataset-- N patients in cluster 11)\n",
      "% most frequent term:ados::b4::1 = 0.11 (10 out of 88 terms in the whole dataset-- N patients in cluster 10)\n",
      "% most frequent term:ados::b9::2 = 0.14 (11 out of 80 terms in the whole dataset-- N patients in cluster 10)\n",
      "% most frequent term:ados::a2::1 = 0.19 (10 out of 52 terms in the whole dataset-- N patients in cluster 10)\n",
      "% most frequent term:vineland-ii::Madre e Padre insieme::scaled_wri::10 = 0.75 (9 out of 12 terms in the whole dataset-- N patients in cluster 9)\n",
      "% most frequent term:vineland-ii::Madre e Padre insieme::scaled_per::11 = 0.53 (9 out of 17 terms in the whole dataset-- N patients in cluster 9)\n",
      "% most frequent term:vineland-ii::Madre e Padre insieme::scaled_dom::10 = 0.90 (9 out of 10 terms in the whole dataset-- N patients in cluster 9)\n",
      "% most frequent term:vineland-ii::Madre e Padre insieme::scaled_wri::9 = 0.73 (8 out of 11 terms in the whole dataset-- N patients in cluster 8)\n",
      "% most frequent term:vineland-ii::Madre e Padre insieme::scaled_ir::8 = 0.80 (8 out of 10 terms in the whole dataset-- N patients in cluster 8)\n",
      "% most frequent term:vineland-ii::Madre e Padre insieme::scaled_ir::10 = 0.50 (8 out of 16 terms in the whole dataset-- N patients in cluster 8)\n",
      "\n",
      "\n",
      "Cluster 4 numerosity: 36\n",
      "% most frequent term:ados::b3::1 = 0.54 (49 out of 90 terms in the whole dataset-- N patients in cluster 35)\n",
      "% most frequent term:ados::b1::2 = 0.22 (49 out of 224 terms in the whole dataset-- N patients in cluster 34)\n",
      "% most frequent term:ados::b4::1 = 0.44 (39 out of 88 terms in the whole dataset-- N patients in cluster 31)\n",
      "% most frequent term:ados::b12::1 = 0.43 (45 out of 104 terms in the whole dataset-- N patients in cluster 31)\n",
      "% most frequent term:ados::a2::1 = 0.65 (34 out of 52 terms in the whole dataset-- N patients in cluster 29)\n",
      "% most frequent term:ados::b9::2 = 0.39 (31 out of 80 terms in the whole dataset-- N patients in cluster 25)\n",
      "% most frequent term:ados::b10::1 = 0.39 (33 out of 84 terms in the whole dataset-- N patients in cluster 25)\n",
      "% most frequent term:ados::b5::1 = 0.43 (23 out of 53 terms in the whole dataset-- N patients in cluster 20)\n",
      "% most frequent term:ados::b5::0 = 0.45 (25 out of 56 terms in the whole dataset-- N patients in cluster 20)\n",
      "% most frequent term:ados::a8::1 = 0.21 (19 out of 89 terms in the whole dataset-- N patients in cluster 18)\n",
      "% most frequent term:ados::a7::1 = 0.22 (23 out of 105 terms in the whole dataset-- N patients in cluster 17)\n",
      "% most frequent term:ados::a5::0 = 0.61 (22 out of 36 terms in the whole dataset-- N patients in cluster 17)\n",
      "% most frequent term:ados::a8::0 = 0.24 (21 out of 89 terms in the whole dataset-- N patients in cluster 15)\n",
      "% most frequent term:ados::a3::0 = 0.50 (14 out of 28 terms in the whole dataset-- N patients in cluster 13)\n",
      "% most frequent term:ados::b9::1 = 0.14 (15 out of 110 terms in the whole dataset-- N patients in cluster 13)\n",
      "% most frequent term:ados::a2::2 = 0.35 (12 out of 34 terms in the whole dataset-- N patients in cluster 11)\n",
      "% most frequent term:ados::a8::2 = 0.19 (11 out of 58 terms in the whole dataset-- N patients in cluster 11)\n",
      "% most frequent term:ados::b10::0 = 0.15 (9 out of 60 terms in the whole dataset-- N patients in cluster 9)\n",
      "% most frequent term:ados::b10::2 = 0.20 (9 out of 44 terms in the whole dataset-- N patients in cluster 8)\n",
      "% most frequent term:ados::b4::0 = 0.14 (9 out of 64 terms in the whole dataset-- N patients in cluster 8)\n",
      "\n",
      "\n",
      "Cluster 5 numerosity: 32\n",
      "% most frequent term:ados::b10::0 = 0.52 (31 out of 60 terms in the whole dataset-- N patients in cluster 30)\n",
      "% most frequent term:ados::a4::0 = 0.21 (30 out of 144 terms in the whole dataset-- N patients in cluster 27)\n",
      "% most frequent term:ados::d2::0 = 0.22 (31 out of 143 terms in the whole dataset-- N patients in cluster 27)\n",
      "% most frequent term:ados::d1::0 = 0.20 (29 out of 142 terms in the whole dataset-- N patients in cluster 27)\n",
      "% most frequent term:ados::b2::1 = 0.20 (26 out of 128 terms in the whole dataset-- N patients in cluster 26)\n",
      "% most frequent term:ados::b4::0 = 0.47 (30 out of 64 terms in the whole dataset-- N patients in cluster 26)\n",
      "% most frequent term:ados::d4::0 = 0.24 (27 out of 112 terms in the whole dataset-- N patients in cluster 25)\n",
      "% most frequent term:ados::a9::0 = 0.37 (27 out of 73 terms in the whole dataset-- N patients in cluster 25)\n",
      "% most frequent term:ados::b11::0 = 0.30 (24 out of 81 terms in the whole dataset-- N patients in cluster 22)\n",
      "% most frequent term:ados::a8::0 = 0.25 (22 out of 89 terms in the whole dataset-- N patients in cluster 20)\n",
      "% most frequent term:ados::b7::1 = 0.35 (22 out of 63 terms in the whole dataset-- N patients in cluster 19)\n",
      "% most frequent term:ados::a7::1 = 0.19 (20 out of 105 terms in the whole dataset-- N patients in cluster 18)\n",
      "% most frequent term:ados::b1::2 = 0.08 (17 out of 224 terms in the whole dataset-- N patients in cluster 17)\n",
      "% most frequent term:ados::b9::1 = 0.16 (18 out of 110 terms in the whole dataset-- N patients in cluster 17)\n",
      "% most frequent term:ados::b1::0 = 0.40 (19 out of 47 terms in the whole dataset-- N patients in cluster 17)\n",
      "% most frequent term:ados::b9::0 = 0.35 (16 out of 46 terms in the whole dataset-- N patients in cluster 14)\n",
      "% most frequent term:ados::b7::0 = 0.62 (13 out of 21 terms in the whole dataset-- N patients in cluster 13)\n",
      "% most frequent term:ados::a8::1 = 0.16 (14 out of 89 terms in the whole dataset-- N patients in cluster 12)\n",
      "% most frequent term:ados::b11::1 = 0.11 (11 out of 99 terms in the whole dataset-- N patients in cluster 11)\n",
      "% most frequent term:ados::a7::0 = 0.23 (11 out of 48 terms in the whole dataset-- N patients in cluster 10)\n",
      "\n",
      "\n",
      "Cluster 6 numerosity: 9\n",
      "% most frequent term:ados::a2::2 = 0.29 (10 out of 34 terms in the whole dataset-- N patients in cluster 9)\n",
      "% most frequent term:ados::b1::2 = 0.04 (10 out of 224 terms in the whole dataset-- N patients in cluster 9)\n",
      "% most frequent term:ados::b9::2 = 0.12 (10 out of 80 terms in the whole dataset-- N patients in cluster 9)\n",
      "% most frequent term:ados::b4::2 = 0.28 (10 out of 36 terms in the whole dataset-- N patients in cluster 9)\n",
      "% most frequent term:ados::b12::2 = 0.30 (9 out of 30 terms in the whole dataset-- N patients in cluster 9)\n",
      "% most frequent term:ados::b3::2 = 0.64 (9 out of 14 terms in the whole dataset-- N patients in cluster 9)\n",
      "% most frequent term:ados::a8::2 = 0.16 (9 out of 58 terms in the whole dataset-- N patients in cluster 8)\n",
      "% most frequent term:ados::b10::2 = 0.16 (7 out of 44 terms in the whole dataset-- N patients in cluster 7)\n",
      "% most frequent term:ados::a3::0 = 0.21 (6 out of 28 terms in the whole dataset-- N patients in cluster 6)\n",
      "% most frequent term:ados::b5::2 = 0.24 (5 out of 21 terms in the whole dataset-- N patients in cluster 5)\n",
      "% most frequent term:ados::b5::1 = 0.08 (4 out of 53 terms in the whole dataset-- N patients in cluster 4)\n",
      "% most frequent term:ados::b11::1 = 0.04 (4 out of 99 terms in the whole dataset-- N patients in cluster 4)\n",
      "% most frequent term:ados::b10::1 = 0.04 (3 out of 84 terms in the whole dataset-- N patients in cluster 3)\n",
      "% most frequent term:vineland-ii::Madre::scaled_ir::7 = 0.50 (3 out of 6 terms in the whole dataset-- N patients in cluster 3)\n",
      "% most frequent term:vineland-ii::Madre::scaled_community::9 = 0.60 (3 out of 5 terms in the whole dataset-- N patients in cluster 3)\n",
      "% most frequent term:vineland-ii::Madre::scaled_dom::9 = 0.60 (3 out of 5 terms in the whole dataset-- N patients in cluster 3)\n",
      "% most frequent term:griffithsmentaldevelopmentscales::q_D::51 = 0.75 (3 out of 4 terms in the whole dataset-- N patients in cluster 3)\n",
      "% most frequent term:vineland-ii::Madre::scaled_wri::10 = 0.27 (3 out of 11 terms in the whole dataset-- N patients in cluster 3)\n",
      "% most frequent term:griffithsmentaldevelopmentscales::q_B::49 = 0.67 (2 out of 3 terms in the whole dataset-- N patients in cluster 2)\n",
      "% most frequent term:ados::b11::0 = 0.04 (3 out of 81 terms in the whole dataset-- N patients in cluster 2)\n",
      "\n",
      "\n",
      "Cluster 7 numerosity: 26\n",
      "% most frequent term:ados::b1::2 = 0.15 (34 out of 224 terms in the whole dataset-- N patients in cluster 23)\n",
      "% most frequent term:ados::b8::1 = 0.65 (24 out of 37 terms in the whole dataset-- N patients in cluster 22)\n",
      "% most frequent term:ados::b3::0 = 0.85 (22 out of 26 terms in the whole dataset-- N patients in cluster 20)\n",
      "% most frequent term:ados::b12::1 = 0.23 (24 out of 104 terms in the whole dataset-- N patients in cluster 19)\n",
      "% most frequent term:ados::b2::1 = 0.17 (22 out of 128 terms in the whole dataset-- N patients in cluster 19)\n",
      "% most frequent term:ados::d1::0 = 0.15 (21 out of 142 terms in the whole dataset-- N patients in cluster 19)\n",
      "% most frequent term:ados::d4::1 = 0.38 (19 out of 50 terms in the whole dataset-- N patients in cluster 18)\n",
      "% most frequent term:ados::a7::1 = 0.19 (20 out of 105 terms in the whole dataset-- N patients in cluster 17)\n",
      "% most frequent term:ados::b5::0 = 0.29 (16 out of 56 terms in the whole dataset-- N patients in cluster 16)\n",
      "% most frequent term:ados::d2::0 = 0.12 (17 out of 143 terms in the whole dataset-- N patients in cluster 16)\n",
      "% most frequent term:ados::a4::0 = 0.12 (17 out of 144 terms in the whole dataset-- N patients in cluster 15)\n",
      "% most frequent term:ados::b6::1 = 0.41 (14 out of 34 terms in the whole dataset-- N patients in cluster 14)\n",
      "% most frequent term:ados::a6::0 = 0.74 (14 out of 19 terms in the whole dataset-- N patients in cluster 13)\n",
      "% most frequent term:ados::a6::1 = 0.94 (15 out of 16 terms in the whole dataset-- N patients in cluster 13)\n",
      "% most frequent term:ados::b3::1 = 0.16 (14 out of 90 terms in the whole dataset-- N patients in cluster 12)\n",
      "% most frequent term:ados::b11::0 = 0.15 (12 out of 81 terms in the whole dataset-- N patients in cluster 12)\n",
      "% most frequent term:ados::b6::0 = 0.45 (13 out of 29 terms in the whole dataset-- N patients in cluster 12)\n",
      "% most frequent term:ados::a7::0 = 0.27 (13 out of 48 terms in the whole dataset-- N patients in cluster 11)\n",
      "% most frequent term:ados::a4::1 = 0.43 (13 out of 30 terms in the whole dataset-- N patients in cluster 11)\n",
      "% most frequent term:ados::b5::1 = 0.26 (14 out of 53 terms in the whole dataset-- N patients in cluster 10)\n",
      "\n",
      "\n"
     ]
    }
   ],
   "source": [
    "freq_term([v for v in raw_behr.values()], best_hclab, idx_to_lab, raw_behr)"
   ]
  },
  {
   "cell_type": "code",
   "execution_count": 145,
   "metadata": {},
   "outputs": [],
   "source": [
    "def single_plot(data, mrn_disease, colors, leg_labels=None):\n",
    "    plt.figure(figsize=(20,10))\n",
    "    for cl in set(mrn_disease):\n",
    "        x = [d[0] for j, d in enumerate(data) if mrn_disease[j] == cl]\n",
    "        y = [d[1] for j, d in enumerate(data) if mrn_disease[j] == cl]\n",
    "        cols = [c for j, c in enumerate(colors) if mrn_disease[j] == cl]\n",
    "        plt.xticks([])\n",
    "        plt.yticks([])\n",
    "        plt.scatter(x,y,c=cols, label=cl)\n",
    "    if leg_labels is not None:\n",
    "        plt.legend(loc=2, labels=leg_labels, markerscale=1, fontsize=9)\n",
    "    else:\n",
    "        plt.legend(loc=2, markerscale=1, fontsize=9)"
   ]
  },
  {
   "cell_type": "code",
   "execution_count": 146,
   "metadata": {},
   "outputs": [],
   "source": [
    "import matplotlib \n",
    "from matplotlib import pyplot as plt\n",
    "% matplotlib inline\n",
    "\n",
    "col_dict = matplotlib.colors.CSS4_COLORS\n",
    "c_out = ['mintcream', 'cornsilk', 'lavenderblush', 'aliceblue', 'antiquewhite', 'aqua', 'aquamarine', 'azure', 'beige', 'powderblue', 'floralwhite', 'ghostwhite',\n",
    "     'lightcoral', 'lightcyan', 'lightgoldenrodyellow', 'lightgray', 'lightgreen', 'lightgrey', 'lightpink', 'lightsalmon', 'lightseagreen', 'lightskyblue',\n",
    "     'lightslategray', 'lightslategrey', 'lightsteelblue', 'lightyellow', 'linen', 'palegoldenrod', 'palegreen', 'paleturquoise', 'palevioletred', 'papayawhip',\n",
    "     'peachpuff', 'mistyrose', 'lemonchiffon', 'lightblue', 'seashell', 'white', 'blanchedalmond', 'oldlace', 'moccasin', 'snow', 'darkgray',\n",
    "     'ivory', 'whitesmoke']\n",
    "colormap = [c for c in col_dict if c not in c_out]"
   ]
  },
  {
   "cell_type": "code",
   "execution_count": 149,
   "metadata": {},
   "outputs": [],
   "source": [
    "colors_en = [colormap[v] for v in best_hclab]\n",
    "tsne_mtx = TSNE().fit_transform(svd_mtx)"
   ]
  },
  {
   "cell_type": "code",
   "execution_count": 150,
   "metadata": {},
   "outputs": [
    {
     "data": {
      "image/png": "[encoded data removed]",
      "text/plain": [
       "<matplotlib.figure.Figure at 0x1a1efc9eb8>"
      ]
     },
     "metadata": {},
     "output_type": "display_data"
    }
   ],
   "source": [
    "single_plot(tsne_mtx, best_hclab, colors_en)"
   ]
  },
  {
   "cell_type": "markdown",
   "metadata": {},
   "source": [
    "# Word2vec"
   ]
  },
  {
   "cell_type": "code",
   "execution_count": 744,
   "metadata": {},
   "outputs": [],
   "source": [
    "list_mrn = [lab for lab in raw_behr]\n",
    "tokenized_corpus = [vec for vec in raw_behr.values()]\n",
    "\n",
    "word2idx = vocab\n",
    "idx2word = idx_to_lab\n",
    "\n",
    "window_size = 5\n",
    "idx_pairs = []\n",
    "# for each sentence\n",
    "for sentence in tokenized_corpus:\n",
    "    indices = [word for word in sentence]\n",
    "    # for each word, threated as center word\n",
    "    for center_word_pos in range(len(indices)):\n",
    "        # for each window position\n",
    "        for w in range(-window_size, window_size + 1):\n",
    "            context_word_pos = center_word_pos + w\n",
    "            # make soure not jump out sentence\n",
    "            if context_word_pos < 0 or context_word_pos >= len(indices) or center_word_pos == context_word_pos:\n",
    "                continue\n",
    "            context_word_idx = indices[context_word_pos]\n",
    "            idx_pairs.append((indices[center_word_pos], context_word_idx))\n",
    "\n",
    "idx_pairs = np.array(idx_pairs) # it will be useful to have this as numpy array"
   ]
  },
  {
   "cell_type": "code",
   "execution_count": 745,
   "metadata": {},
   "outputs": [],
   "source": [
    "def get_input_layer(word_idx):\n",
    "    x = torch.zeros(vocabulary_size).float()\n",
    "    x[word_idx] = 1.0\n",
    "    return x"
   ]
  },
  {
   "cell_type": "code",
   "execution_count": 746,
   "metadata": {},
   "outputs": [
    {
     "name": "stdout",
     "output_type": "stream",
     "text": [
      "Loss at epo 0: 9.453596194195455\n"
     ]
    }
   ],
   "source": [
    "embedding_dims = 5\n",
    "vocabulary_size = len(word2idx)\n",
    "\n",
    "W1 = torch.randn(embedding_dims, vocabulary_size, requires_grad=True).float()\n",
    "W2 = torch.randn(vocabulary_size, embedding_dims, requires_grad=True).float()\n",
    "num_epochs = 5\n",
    "learning_rate = 0.001\n",
    "\n",
    "for epo in range(num_epochs):\n",
    "    loss_val = 0\n",
    "    for data, target in idx_pairs:\n",
    "        x = get_input_layer(data).float()\n",
    "        y_true = torch.from_numpy(np.array([target])).long()\n",
    "\n",
    "        z1 = torch.matmul(W1, x)\n",
    "        z2 = torch.matmul(W2, z1)\n",
    "    \n",
    "        log_softmax = F.log_softmax(z2, dim=0)\n",
    "\n",
    "        loss = F.nll_loss(log_softmax.view(1,-1), y_true)\n",
    "        loss_val += loss.item()\n",
    "        loss.backward()\n",
    "        W1.data -= learning_rate * W1.grad.data\n",
    "        W2.data -= learning_rate * W2.grad.data\n",
    "\n",
    "        W1.grad.data.zero_()\n",
    "        W2.grad.data.zero_()\n",
    "    if epo % 10 == 0:    \n",
    "        print(f'Loss at epo {epo}: {loss_val/len(idx_pairs)}')"
   ]
  },
  {
   "cell_type": "code",
   "execution_count": 747,
   "metadata": {},
   "outputs": [
    {
     "data": {
      "text/plain": [
       "torch.Size([2118, 5])"
      ]
     },
     "execution_count": 747,
     "metadata": {},
     "output_type": "execute_result"
    }
   ],
   "source": [
    "W2.size()"
   ]
  },
  {
   "cell_type": "code",
   "execution_count": 748,
   "metadata": {},
   "outputs": [
    {
     "data": {
      "text/plain": [
       "torch.Size([5, 2118])"
      ]
     },
     "execution_count": 748,
     "metadata": {},
     "output_type": "execute_result"
    }
   ],
   "source": [
    "W1.size()"
   ]
  },
  {
   "cell_type": "code",
   "execution_count": 749,
   "metadata": {},
   "outputs": [],
   "source": [
    "behr_emb = {lab:W2[idx].detach().numpy() for lab, idx in raw_behr.items()}"
   ]
  },
  {
   "cell_type": "code",
   "execution_count": 750,
   "metadata": {},
   "outputs": [],
   "source": [
    "behr_emb_avg = {}\n",
    "list_emb_avg = []\n",
    "list_mrn = []\n",
    "for lab, emb in behr_emb.items():\n",
    "    if len(emb) > 0:    \n",
    "        avg_emb = np.mean(emb, 0)\n",
    "        behr_emb_avg[lab] = avg_emb.tolist()\n",
    "        list_mrn.append(lab)\n",
    "        list_emb_avg.append(avg_emb.tolist())"
   ]
  },
  {
   "cell_type": "code",
   "execution_count": 751,
   "metadata": {},
   "outputs": [
    {
     "name": "stdout",
     "output_type": "stream",
     "text": [
      "0.23861414856077323\n",
      "0.25429643090769366\n",
      "0.15933470780758768\n",
      "0.16315075006394492\n",
      "0.17078370440541674\n",
      "0.17371754342540005\n",
      "0.17737159783403975\n",
      "0.1413148557740774\n",
      "0.13603137950441233\n",
      "0.1304386265035545\n",
      "0.13562126629007473\n",
      "0.14209120844451376\n",
      "0.14158980336055957\n",
      "0.14500553660272558\n",
      "0.14900508597863094\n",
      "0.15242219893098027\n",
      "0.15401633610836415\n"
     ]
    }
   ],
   "source": [
    "silh_best = 0\n",
    "for n_clu in range(3,20):\n",
    "    HCalg = AgglomerativeClustering(n_clu)\n",
    "    hc_lab = HCalg.fit_predict(list_emb_avg)\n",
    "    silh_tmp = silhouette_score(list_emb_avg, hc_lab)\n",
    "    print(silh_tmp)\n",
    "    if silh_tmp > silh_best:\n",
    "        silh_best = silh_tmp\n",
    "        best_nclu = n_clu\n",
    "        best_hclab = hc_lab"
   ]
  },
  {
   "cell_type": "code",
   "execution_count": 752,
   "metadata": {},
   "outputs": [
    {
     "name": "stdout",
     "output_type": "stream",
     "text": [
      "4 0.25429643090769366\n"
     ]
    }
   ],
   "source": [
    "print(best_nclu, silh_best)"
   ]
  },
  {
   "cell_type": "code",
   "execution_count": 753,
   "metadata": {},
   "outputs": [
    {
     "data": {
      "text/plain": [
       "(array([0, 1, 2, 3]), array([137,  75,  14,  19]))"
      ]
     },
     "execution_count": 753,
     "metadata": {},
     "output_type": "execute_result"
    }
   ],
   "source": [
    "np.unique(best_hclab, return_counts=True)"
   ]
  },
  {
   "cell_type": "code",
   "execution_count": 754,
   "metadata": {},
   "outputs": [
    {
     "name": "stdout",
     "output_type": "stream",
     "text": [
      "Cluster 0 numerosity: 137\n",
      "% most frequent term:ados::a4::0 = 0.85 (123 out of 144 terms in the whole dataset-- N patients in cluster 110)\n",
      "% most frequent term:ados::d1::0 = 0.85 (120 out of 142 terms in the whole dataset-- N patients in cluster 107)\n",
      "% most frequent term:ados::b1::2 = 0.54 (121 out of 224 terms in the whole dataset-- N patients in cluster 105)\n",
      "% most frequent term:ados::d2::0 = 0.85 (121 out of 143 terms in the whole dataset-- N patients in cluster 105)\n",
      "% most frequent term:ados::b2::1 = 0.84 (108 out of 128 terms in the whole dataset-- N patients in cluster 97)\n",
      "% most frequent term:ados::d4::0 = 0.83 (93 out of 112 terms in the whole dataset-- N patients in cluster 84)\n",
      "% most frequent term:ados::b11::1 = 0.76 (75 out of 99 terms in the whole dataset-- N patients in cluster 72)\n",
      "% most frequent term:ados::b9::1 = 0.68 (75 out of 110 terms in the whole dataset-- N patients in cluster 70)\n",
      "% most frequent term:ados::a7::1 = 0.68 (71 out of 105 terms in the whole dataset-- N patients in cluster 62)\n",
      "% most frequent term:ados::a9::0 = 0.84 (61 out of 73 terms in the whole dataset-- N patients in cluster 57)\n",
      "% most frequent term:ados::a8::0 = 0.62 (55 out of 89 terms in the whole dataset-- N patients in cluster 50)\n",
      "% most frequent term:ados::b11::0 = 0.65 (53 out of 81 terms in the whole dataset-- N patients in cluster 49)\n",
      "% most frequent term:ados::b7::1 = 0.84 (53 out of 63 terms in the whole dataset-- N patients in cluster 48)\n",
      "% most frequent term:ados::a8::1 = 0.56 (50 out of 89 terms in the whole dataset-- N patients in cluster 45)\n",
      "% most frequent term:ados::b4::0 = 0.72 (46 out of 64 terms in the whole dataset-- N patients in cluster 42)\n",
      "% most frequent term:ados::b10::0 = 0.68 (41 out of 60 terms in the whole dataset-- N patients in cluster 40)\n",
      "% most frequent term:ados::d4::1 = 0.84 (42 out of 50 terms in the whole dataset-- N patients in cluster 39)\n",
      "% most frequent term:ados::b12::0 = 0.84 (37 out of 44 terms in the whole dataset-- N patients in cluster 36)\n",
      "% most frequent term:ados::a9::1 = 0.87 (39 out of 45 terms in the whole dataset-- N patients in cluster 36)\n",
      "% most frequent term:ados::b4::1 = 0.41 (36 out of 88 terms in the whole dataset-- N patients in cluster 33)\n",
      "\n",
      "\n",
      "Cluster 1 numerosity: 75\n",
      "% most frequent term:ados::b1::2 = 0.40 (89 out of 224 terms in the whole dataset-- N patients in cluster 67)\n",
      "% most frequent term:ados::b3::1 = 0.76 (68 out of 90 terms in the whole dataset-- N patients in cluster 54)\n",
      "% most frequent term:ados::b9::2 = 0.70 (56 out of 80 terms in the whole dataset-- N patients in cluster 48)\n",
      "% most frequent term:ados::b12::1 = 0.62 (64 out of 104 terms in the whole dataset-- N patients in cluster 47)\n",
      "% most frequent term:ados::b10::1 = 0.60 (50 out of 84 terms in the whole dataset-- N patients in cluster 41)\n",
      "% most frequent term:ados::a2::1 = 0.90 (47 out of 52 terms in the whole dataset-- N patients in cluster 41)\n",
      "% most frequent term:ados::b4::1 = 0.55 (48 out of 88 terms in the whole dataset-- N patients in cluster 40)\n",
      "% most frequent term:ados::b5::1 = 0.75 (40 out of 53 terms in the whole dataset-- N patients in cluster 35)\n",
      "% most frequent term:ados::a8::1 = 0.36 (32 out of 89 terms in the whole dataset-- N patients in cluster 29)\n",
      "% most frequent term:ados::b5::0 = 0.61 (34 out of 56 terms in the whole dataset-- N patients in cluster 29)\n",
      "% most frequent term:ados::a2::2 = 0.85 (29 out of 34 terms in the whole dataset-- N patients in cluster 27)\n",
      "% most frequent term:ados::a8::2 = 0.48 (28 out of 58 terms in the whole dataset-- N patients in cluster 27)\n",
      "% most frequent term:ados::a3::0 = 0.96 (27 out of 28 terms in the whole dataset-- N patients in cluster 26)\n",
      "% most frequent term:ados::a5::0 = 0.83 (30 out of 36 terms in the whole dataset-- N patients in cluster 25)\n",
      "% most frequent term:ados::a7::1 = 0.30 (32 out of 105 terms in the whole dataset-- N patients in cluster 24)\n",
      "% most frequent term:ados::b4::2 = 0.69 (25 out of 36 terms in the whole dataset-- N patients in cluster 23)\n",
      "% most frequent term:ados::b10::2 = 0.50 (22 out of 44 terms in the whole dataset-- N patients in cluster 21)\n",
      "% most frequent term:ados::b9::1 = 0.21 (23 out of 110 terms in the whole dataset-- N patients in cluster 21)\n",
      "% most frequent term:ados::a8::0 = 0.29 (26 out of 89 terms in the whole dataset-- N patients in cluster 20)\n",
      "% most frequent term:ados::b12::2 = 0.67 (20 out of 30 terms in the whole dataset-- N patients in cluster 19)\n",
      "\n",
      "\n",
      "Cluster 2 numerosity: 14\n",
      "% most frequent term:ados::a4::0 = 0.10 (15 out of 144 terms in the whole dataset-- N patients in cluster 14)\n",
      "% most frequent term:ados::d2::0 = 0.10 (15 out of 143 terms in the whole dataset-- N patients in cluster 14)\n",
      "% most frequent term:ados::d4::0 = 0.13 (15 out of 112 terms in the whole dataset-- N patients in cluster 14)\n",
      "% most frequent term:ados::d1::0 = 0.09 (13 out of 142 terms in the whole dataset-- N patients in cluster 13)\n",
      "% most frequent term:ados::b9::1 = 0.10 (11 out of 110 terms in the whole dataset-- N patients in cluster 10)\n",
      "% most frequent term:ados::b1::2 = 0.04 (9 out of 224 terms in the whole dataset-- N patients in cluster 9)\n",
      "% most frequent term:ados::b11::0 = 0.11 (9 out of 81 terms in the whole dataset-- N patients in cluster 9)\n",
      "% most frequent term:ados::b8::0 = 0.21 (8 out of 39 terms in the whole dataset-- N patients in cluster 8)\n",
      "% most frequent term:ados::b2::1 = 0.07 (9 out of 128 terms in the whole dataset-- N patients in cluster 8)\n",
      "% most frequent term:ados::a9::0 = 0.11 (8 out of 73 terms in the whole dataset-- N patients in cluster 8)\n",
      "% most frequent term:ados::d5::0 = 0.17 (7 out of 41 terms in the whole dataset-- N patients in cluster 7)\n",
      "% most frequent term:ados::b11::1 = 0.06 (6 out of 99 terms in the whole dataset-- N patients in cluster 6)\n",
      "% most frequent term:ados::a8::1 = 0.07 (6 out of 89 terms in the whole dataset-- N patients in cluster 6)\n",
      "% most frequent term:ados::a8::0 = 0.08 (7 out of 89 terms in the whole dataset-- N patients in cluster 6)\n",
      "% most frequent term:ados::b1::0 = 0.13 (6 out of 47 terms in the whole dataset-- N patients in cluster 6)\n",
      "% most frequent term:ados::b6::0 = 0.17 (5 out of 29 terms in the whole dataset-- N patients in cluster 5)\n",
      "% most frequent term:ados::b12::1 = 0.05 (5 out of 104 terms in the whole dataset-- N patients in cluster 5)\n",
      "% most frequent term:ados::a9::1 = 0.11 (5 out of 45 terms in the whole dataset-- N patients in cluster 5)\n",
      "% most frequent term:ados::b7::1 = 0.08 (5 out of 63 terms in the whole dataset-- N patients in cluster 5)\n",
      "% most frequent term:ados::c1::0 = 0.25 (4 out of 16 terms in the whole dataset-- N patients in cluster 4)\n",
      "\n",
      "\n",
      "Cluster 3 numerosity: 19\n",
      "% most frequent term:ados::b1::2 = 0.02 (5 out of 224 terms in the whole dataset-- N patients in cluster 5)\n",
      "% most frequent term:ados::b3::1 = 0.03 (3 out of 90 terms in the whole dataset-- N patients in cluster 3)\n",
      "% most frequent term:ados::b12::1 = 0.03 (3 out of 104 terms in the whole dataset-- N patients in cluster 3)\n",
      "% most frequent term:ados::b5::0 = 0.05 (3 out of 56 terms in the whole dataset-- N patients in cluster 3)\n",
      "% most frequent term:ados::b11::1 = 0.03 (3 out of 99 terms in the whole dataset-- N patients in cluster 3)\n",
      "% most frequent term:vineland-ii::Madre::scaled_community::13 = 1.00 (3 out of 3 terms in the whole dataset-- N patients in cluster 3)\n",
      "% most frequent term:vineland-ii::Madre::scaled_per::11 = 0.25 (2 out of 8 terms in the whole dataset-- N patients in cluster 2)\n",
      "% most frequent term:vineland-ii::Madre::scaled_dom::11 = 0.29 (2 out of 7 terms in the whole dataset-- N patients in cluster 2)\n",
      "% most frequent term:vineland-ii::Madre::scaled_play::10 = 0.25 (2 out of 8 terms in the whole dataset-- N patients in cluster 2)\n",
      "% most frequent term:srs::Madre::raw_sm::26 = 1.00 (2 out of 2 terms in the whole dataset-- N patients in cluster 2)\n",
      "% most frequent term:ados::a2::2 = 0.06 (2 out of 34 terms in the whole dataset-- N patients in cluster 2)\n",
      "% most frequent term:ados::b4::1 = 0.02 (2 out of 88 terms in the whole dataset-- N patients in cluster 2)\n",
      "% most frequent term:ados::b9::2 = 0.03 (2 out of 80 terms in the whole dataset-- N patients in cluster 2)\n",
      "% most frequent term:ados::b10::0 = 0.03 (2 out of 60 terms in the whole dataset-- N patients in cluster 2)\n",
      "% most frequent term:vineland-ii::Madre::scaled_dom::12 = 0.33 (2 out of 6 terms in the whole dataset-- N patients in cluster 2)\n",
      "% most frequent term:vineland-ii::Madre::scaled_cs::9 = 0.20 (2 out of 10 terms in the whole dataset-- N patients in cluster 2)\n",
      "% most frequent term:ados::a7::2 = 0.06 (2 out of 34 terms in the whole dataset-- N patients in cluster 2)\n",
      "% most frequent term:ados::a4::1 = 0.07 (2 out of 30 terms in the whole dataset-- N patients in cluster 2)\n",
      "% most frequent term:ados::d4::1 = 0.04 (2 out of 50 terms in the whole dataset-- N patients in cluster 2)\n",
      "% most frequent term:griffithsmentaldevelopmentscales::q_E::110 = 0.50 (2 out of 4 terms in the whole dataset-- N patients in cluster 2)\n",
      "\n",
      "\n"
     ]
    }
   ],
   "source": [
    "freq_term([v for v in raw_behr.values()], best_hclab, idx_to_lab, raw_behr)"
   ]
  },
  {
   "cell_type": "code",
   "execution_count": 755,
   "metadata": {},
   "outputs": [],
   "source": [
    "colors_en = [colormap[v] for v in best_hclab]\n",
    "tsne_mtx = TSNE().fit_transform(list_emb_avg)"
   ]
  },
  {
   "cell_type": "code",
   "execution_count": 756,
   "metadata": {},
   "outputs": [
    {
     "data": {
      "image/png": "[encoded data removed]",
      "text/plain": [
       "<matplotlib.figure.Figure at 0x1a286c5eb8>"
      ]
     },
     "metadata": {},
     "output_type": "display_data"
    }
   ],
   "source": [
    "single_plot(tsne_mtx, best_hclab, colors_en)"
   ]
  },
  {
   "cell_type": "code",
   "execution_count": null,
   "metadata": {},
   "outputs": [],
   "source": []
  }
 ],
 "metadata": {
  "kernelspec": {
   "display_name": "Python 3",
   "language": "python",
   "name": "python3"
  },
  "language_info": {
   "codemirror_mode": {
    "name": "ipython",
    "version": 3
   },
   "file_extension": ".py",
   "mimetype": "text/x-python",
   "name": "python",
   "nbconvert_exporter": "python",
   "pygments_lexer": "ipython3",
   "version": "3.6.8"
  }
 },
 "nbformat": 4,
 "nbformat_minor": 2
}
